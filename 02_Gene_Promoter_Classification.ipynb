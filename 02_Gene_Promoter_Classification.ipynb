{
 "cells": [
  {
   "cell_type": "markdown",
   "metadata": {},
   "source": [
    "# Gene Promoter Prediction"
   ]
  },
  {
   "cell_type": "markdown",
   "metadata": {},
   "source": [
    "We have a collection of DNA sequences, labeled as to whether each sequence contains promoter regions or not, and we need to train a model to classify and make predictions for sequences it has never seen before.\n",
    "\n",
    "We will explore models for classification based on statistical features, hexamers (k-mers with k=6), sequential hexamers, and the original sequential data."
   ]
  },
  {
   "cell_type": "code",
   "execution_count": 1,
   "metadata": {
    "execution": {
     "iopub.execute_input": "2023-08-05T05:24:36.749415Z",
     "iopub.status.busy": "2023-08-05T05:24:36.748712Z",
     "iopub.status.idle": "2023-08-05T05:24:37.766993Z",
     "shell.execute_reply": "2023-08-05T05:24:37.766059Z",
     "shell.execute_reply.started": "2023-08-05T05:24:36.749297Z"
    }
   },
   "outputs": [],
   "source": [
    "import numpy as np\n",
    "import pandas as pd\n",
    "import matplotlib.pyplot as plt\n",
    "import seaborn as sns\n",
    "from mpl_toolkits import mplot3d\n",
    "import warnings\n",
    "from Bio import SeqIO\n",
    "warnings.filterwarnings('ignore')\n",
    "\n",
    "results = {} #dictionary to store accuracy and f1-score of models"
   ]
  },
  {
   "cell_type": "code",
   "execution_count": 2,
   "metadata": {
    "execution": {
     "iopub.execute_input": "2023-08-05T05:24:37.769586Z",
     "iopub.status.busy": "2023-08-05T05:24:37.769095Z",
     "iopub.status.idle": "2023-08-05T05:24:37.774115Z",
     "shell.execute_reply": "2023-08-05T05:24:37.772985Z",
     "shell.execute_reply.started": "2023-08-05T05:24:37.769538Z"
    }
   },
   "outputs": [],
   "source": [
    "# columns = ['class','id','seq']\n",
    "# df = pd.read_csv('../input/gene-promoter-sequences/promoters.data',names=columns)\n",
    "# df.head(2)"
   ]
  },
  {
   "cell_type": "markdown",
   "metadata": {},
   "source": [
    "Many sequences start with '\\t' or '\\t\\t'. We remove these redundant characters"
   ]
  },
  {
   "cell_type": "code",
   "execution_count": 3,
   "metadata": {
    "execution": {
     "iopub.execute_input": "2023-08-05T05:24:37.776268Z",
     "iopub.status.busy": "2023-08-05T05:24:37.775819Z",
     "iopub.status.idle": "2023-08-05T05:24:37.864382Z",
     "shell.execute_reply": "2023-08-05T05:24:37.863323Z",
     "shell.execute_reply.started": "2023-08-05T05:24:37.776205Z"
    }
   },
   "outputs": [],
   "source": [
    "with open(\"C:/Users/Admin/Pattern_Project/Promoter_negative2860.fasta\") as fasta_file:  # Will close handle cleanly\n",
    "    identifiers = []\n",
    "    lengths = []\n",
    "#read Sequence from FASTA file\n",
    "    for seq_record in SeqIO.parse(fasta_file, 'fasta'):  # (generator)\n",
    "        identifiers.append(str(seq_record.seq))\n",
    "        lengths.append(len(seq_record.seq))"
   ]
  },
  {
   "cell_type": "code",
   "execution_count": 4,
   "metadata": {
    "execution": {
     "iopub.execute_input": "2023-08-05T05:24:37.866560Z",
     "iopub.status.busy": "2023-08-05T05:24:37.866085Z",
     "iopub.status.idle": "2023-08-05T05:24:37.913596Z",
     "shell.execute_reply": "2023-08-05T05:24:37.912566Z",
     "shell.execute_reply.started": "2023-08-05T05:24:37.866514Z"
    }
   },
   "outputs": [
    {
     "data": {
      "text/html": [
       "<div>\n",
       "<style scoped>\n",
       "    .dataframe tbody tr th:only-of-type {\n",
       "        vertical-align: middle;\n",
       "    }\n",
       "\n",
       "    .dataframe tbody tr th {\n",
       "        vertical-align: top;\n",
       "    }\n",
       "\n",
       "    .dataframe thead th {\n",
       "        text-align: right;\n",
       "    }\n",
       "</style>\n",
       "<table border=\"1\" class=\"dataframe\">\n",
       "  <thead>\n",
       "    <tr style=\"text-align: right;\">\n",
       "      <th></th>\n",
       "      <th>seq</th>\n",
       "      <th>Len</th>\n",
       "      <th>id</th>\n",
       "    </tr>\n",
       "  </thead>\n",
       "  <tbody>\n",
       "    <tr>\n",
       "      <th>0</th>\n",
       "      <td>CGCAGCGGGTTTACCCTCTGACCGTTTCTGTTACGAAGGCTTTTTA...</td>\n",
       "      <td>81</td>\n",
       "      <td>-</td>\n",
       "    </tr>\n",
       "    <tr>\n",
       "      <th>1</th>\n",
       "      <td>TGCTGCTTGGTCTGTGGGTTGCCGCACAGGTTGCCGGTTCCACCAA...</td>\n",
       "      <td>81</td>\n",
       "      <td>-</td>\n",
       "    </tr>\n",
       "    <tr>\n",
       "      <th>2</th>\n",
       "      <td>GAATCCAACTTATGTTGTAAACTGGCAAGGTAATGTCATTAGTCAT...</td>\n",
       "      <td>81</td>\n",
       "      <td>-</td>\n",
       "    </tr>\n",
       "    <tr>\n",
       "      <th>3</th>\n",
       "      <td>TGGACCTGTTTCGCCGAAACGCGCTGGAAAAAGCGTATCTGGAGAT...</td>\n",
       "      <td>81</td>\n",
       "      <td>-</td>\n",
       "    </tr>\n",
       "    <tr>\n",
       "      <th>4</th>\n",
       "      <td>CCGCGACATTGAAAACTGGCCTCATATCAACGGCGTTTTTTATTCC...</td>\n",
       "      <td>81</td>\n",
       "      <td>-</td>\n",
       "    </tr>\n",
       "    <tr>\n",
       "      <th>...</th>\n",
       "      <td>...</td>\n",
       "      <td>...</td>\n",
       "      <td>...</td>\n",
       "    </tr>\n",
       "    <tr>\n",
       "      <th>2855</th>\n",
       "      <td>CAACCTTTTACCTTAAGGTTCCGGAAGGCTGGTTCATTCCGGCTGA...</td>\n",
       "      <td>81</td>\n",
       "      <td>-</td>\n",
       "    </tr>\n",
       "    <tr>\n",
       "      <th>2856</th>\n",
       "      <td>GGGCAGGCAAAAAATCAATCTTGATCCCGATATCGTCCGCGTTGCC...</td>\n",
       "      <td>81</td>\n",
       "      <td>-</td>\n",
       "    </tr>\n",
       "    <tr>\n",
       "      <th>2857</th>\n",
       "      <td>TGATTTGTATGGAAAAAATCTATGCCTATGCGGGATATATCGCCAT...</td>\n",
       "      <td>81</td>\n",
       "      <td>-</td>\n",
       "    </tr>\n",
       "    <tr>\n",
       "      <th>2858</th>\n",
       "      <td>ACTCAGTCATTCCCGCGCCCGAGGAAGGTGAAACGGCAACGTTTAT...</td>\n",
       "      <td>81</td>\n",
       "      <td>-</td>\n",
       "    </tr>\n",
       "    <tr>\n",
       "      <th>2859</th>\n",
       "      <td>GCGGCGGTATTTTCCACGATCTCTACAGCGTCTGGGGCGGTAGCGA...</td>\n",
       "      <td>81</td>\n",
       "      <td>-</td>\n",
       "    </tr>\n",
       "  </tbody>\n",
       "</table>\n",
       "<p>2860 rows × 3 columns</p>\n",
       "</div>"
      ],
      "text/plain": [
       "                                                    seq  Len id\n",
       "0     CGCAGCGGGTTTACCCTCTGACCGTTTCTGTTACGAAGGCTTTTTA...   81  -\n",
       "1     TGCTGCTTGGTCTGTGGGTTGCCGCACAGGTTGCCGGTTCCACCAA...   81  -\n",
       "2     GAATCCAACTTATGTTGTAAACTGGCAAGGTAATGTCATTAGTCAT...   81  -\n",
       "3     TGGACCTGTTTCGCCGAAACGCGCTGGAAAAAGCGTATCTGGAGAT...   81  -\n",
       "4     CCGCGACATTGAAAACTGGCCTCATATCAACGGCGTTTTTTATTCC...   81  -\n",
       "...                                                 ...  ... ..\n",
       "2855  CAACCTTTTACCTTAAGGTTCCGGAAGGCTGGTTCATTCCGGCTGA...   81  -\n",
       "2856  GGGCAGGCAAAAAATCAATCTTGATCCCGATATCGTCCGCGTTGCC...   81  -\n",
       "2857  TGATTTGTATGGAAAAAATCTATGCCTATGCGGGATATATCGCCAT...   81  -\n",
       "2858  ACTCAGTCATTCCCGCGCCCGAGGAAGGTGAAACGGCAACGTTTAT...   81  -\n",
       "2859  GCGGCGGTATTTTCCACGATCTCTACAGCGTCTGGGGCGGTAGCGA...   81  -\n",
       "\n",
       "[2860 rows x 3 columns]"
      ]
     },
     "execution_count": 4,
     "metadata": {},
     "output_type": "execute_result"
    }
   ],
   "source": [
    "#store sequence in DataFrame\n",
    "d = {'seq':identifiers,'Len':lengths }\n",
    "negative_data= pd.DataFrame(d)\n",
    "negative_data['id']=\"-\"\n",
    "negative_data"
   ]
  },
  {
   "cell_type": "code",
   "execution_count": 5,
   "metadata": {
    "execution": {
     "iopub.execute_input": "2023-08-05T05:24:37.918898Z",
     "iopub.status.busy": "2023-08-05T05:24:37.918543Z",
     "iopub.status.idle": "2023-08-05T05:24:37.970332Z",
     "shell.execute_reply": "2023-08-05T05:24:37.969100Z",
     "shell.execute_reply.started": "2023-08-05T05:24:37.918857Z"
    }
   },
   "outputs": [],
   "source": [
    "with open(\"C:/Users/Admin/Pattern_Project/Promoter_positive2860.fasta\") as fasta_file:  # Will close handle cleanly\n",
    "    identifiers = []\n",
    "    lengths = []\n",
    "#read Sequence from FASTA file\n",
    "    for seq_record in SeqIO.parse(fasta_file, 'fasta'):  # (generator)\n",
    "        identifiers.append(str(seq_record.seq))\n",
    "        lengths.append(len(seq_record.seq))"
   ]
  },
  {
   "cell_type": "code",
   "execution_count": 6,
   "metadata": {
    "execution": {
     "iopub.execute_input": "2023-08-05T05:24:37.975062Z",
     "iopub.status.busy": "2023-08-05T05:24:37.974580Z",
     "iopub.status.idle": "2023-08-05T05:24:38.000385Z",
     "shell.execute_reply": "2023-08-05T05:24:37.999134Z",
     "shell.execute_reply.started": "2023-08-05T05:24:37.975015Z"
    }
   },
   "outputs": [
    {
     "data": {
      "text/html": [
       "<div>\n",
       "<style scoped>\n",
       "    .dataframe tbody tr th:only-of-type {\n",
       "        vertical-align: middle;\n",
       "    }\n",
       "\n",
       "    .dataframe tbody tr th {\n",
       "        vertical-align: top;\n",
       "    }\n",
       "\n",
       "    .dataframe thead th {\n",
       "        text-align: right;\n",
       "    }\n",
       "</style>\n",
       "<table border=\"1\" class=\"dataframe\">\n",
       "  <thead>\n",
       "    <tr style=\"text-align: right;\">\n",
       "      <th></th>\n",
       "      <th>seq</th>\n",
       "      <th>Len</th>\n",
       "      <th>id</th>\n",
       "    </tr>\n",
       "  </thead>\n",
       "  <tbody>\n",
       "    <tr>\n",
       "      <th>0</th>\n",
       "      <td>CAACCAGCAAGAGAACATCTGGCCTGCGGGCACCACTGCTACAGTG...</td>\n",
       "      <td>81</td>\n",
       "      <td>+</td>\n",
       "    </tr>\n",
       "    <tr>\n",
       "      <th>1</th>\n",
       "      <td>CCGCGACCTTTGCCGCAAGCCTCGGTCTGAAAGTTAACGCCGGACA...</td>\n",
       "      <td>81</td>\n",
       "      <td>+</td>\n",
       "    </tr>\n",
       "    <tr>\n",
       "      <th>2</th>\n",
       "      <td>CAAGAGCTGGCGCGTATCGCCAAAGCCGCGACCTTTGCCGCAAGCC...</td>\n",
       "      <td>81</td>\n",
       "      <td>+</td>\n",
       "    </tr>\n",
       "    <tr>\n",
       "      <th>3</th>\n",
       "      <td>TAGATGTCCTTGATTAACACCAAAATTAAACCTTTTAAAAACCAGG...</td>\n",
       "      <td>81</td>\n",
       "      <td>+</td>\n",
       "    </tr>\n",
       "    <tr>\n",
       "      <th>4</th>\n",
       "      <td>TATTTTATCTACAAAAACTGACTAAATAAAAATTTTTCACTAATTG...</td>\n",
       "      <td>81</td>\n",
       "      <td>+</td>\n",
       "    </tr>\n",
       "    <tr>\n",
       "      <th>...</th>\n",
       "      <td>...</td>\n",
       "      <td>...</td>\n",
       "      <td>...</td>\n",
       "    </tr>\n",
       "    <tr>\n",
       "      <th>2855</th>\n",
       "      <td>CTCGCTGTATCTCTGATAAAACTTGACTCTGGAGTCGACTCCAGAG...</td>\n",
       "      <td>81</td>\n",
       "      <td>+</td>\n",
       "    </tr>\n",
       "    <tr>\n",
       "      <th>2856</th>\n",
       "      <td>ATTGAAGCTGCGACAAGCTGGATTGAGTACCGATTTTTTACGCGGC...</td>\n",
       "      <td>81</td>\n",
       "      <td>+</td>\n",
       "    </tr>\n",
       "    <tr>\n",
       "      <th>2857</th>\n",
       "      <td>TATGTAACATAATGCGACCAATAATCGTAATGAATATGAGAAGTGT...</td>\n",
       "      <td>81</td>\n",
       "      <td>+</td>\n",
       "    </tr>\n",
       "    <tr>\n",
       "      <th>2858</th>\n",
       "      <td>AATAGCGAGTTAACTTGAAGCAATTTATTTAAAAATGAATTATTAA...</td>\n",
       "      <td>81</td>\n",
       "      <td>+</td>\n",
       "    </tr>\n",
       "    <tr>\n",
       "      <th>2859</th>\n",
       "      <td>TCGCACGGGTGGATAAGCGTTTACAGTTTTCGCAAGCTCGTAAAAG...</td>\n",
       "      <td>81</td>\n",
       "      <td>+</td>\n",
       "    </tr>\n",
       "  </tbody>\n",
       "</table>\n",
       "<p>2860 rows × 3 columns</p>\n",
       "</div>"
      ],
      "text/plain": [
       "                                                    seq  Len id\n",
       "0     CAACCAGCAAGAGAACATCTGGCCTGCGGGCACCACTGCTACAGTG...   81  +\n",
       "1     CCGCGACCTTTGCCGCAAGCCTCGGTCTGAAAGTTAACGCCGGACA...   81  +\n",
       "2     CAAGAGCTGGCGCGTATCGCCAAAGCCGCGACCTTTGCCGCAAGCC...   81  +\n",
       "3     TAGATGTCCTTGATTAACACCAAAATTAAACCTTTTAAAAACCAGG...   81  +\n",
       "4     TATTTTATCTACAAAAACTGACTAAATAAAAATTTTTCACTAATTG...   81  +\n",
       "...                                                 ...  ... ..\n",
       "2855  CTCGCTGTATCTCTGATAAAACTTGACTCTGGAGTCGACTCCAGAG...   81  +\n",
       "2856  ATTGAAGCTGCGACAAGCTGGATTGAGTACCGATTTTTTACGCGGC...   81  +\n",
       "2857  TATGTAACATAATGCGACCAATAATCGTAATGAATATGAGAAGTGT...   81  +\n",
       "2858  AATAGCGAGTTAACTTGAAGCAATTTATTTAAAAATGAATTATTAA...   81  +\n",
       "2859  TCGCACGGGTGGATAAGCGTTTACAGTTTTCGCAAGCTCGTAAAAG...   81  +\n",
       "\n",
       "[2860 rows x 3 columns]"
      ]
     },
     "execution_count": 6,
     "metadata": {},
     "output_type": "execute_result"
    }
   ],
   "source": [
    "#store sequence in DataFrame\n",
    "d= {'seq':identifiers,'Len':lengths}\n",
    "positive_data= pd.DataFrame(d)\n",
    "positive_data['id']=\"+\"\n",
    "positive_data"
   ]
  },
  {
   "cell_type": "markdown",
   "metadata": {},
   "source": [
    "## Exploratory Analysis"
   ]
  },
  {
   "cell_type": "code",
   "execution_count": 7,
   "metadata": {
    "execution": {
     "iopub.execute_input": "2023-08-05T05:24:38.002782Z",
     "iopub.status.busy": "2023-08-05T05:24:38.002383Z",
     "iopub.status.idle": "2023-08-05T05:24:38.033343Z",
     "shell.execute_reply": "2023-08-05T05:24:38.032410Z",
     "shell.execute_reply.started": "2023-08-05T05:24:38.002740Z"
    }
   },
   "outputs": [
    {
     "data": {
      "text/html": [
       "<div>\n",
       "<style scoped>\n",
       "    .dataframe tbody tr th:only-of-type {\n",
       "        vertical-align: middle;\n",
       "    }\n",
       "\n",
       "    .dataframe tbody tr th {\n",
       "        vertical-align: top;\n",
       "    }\n",
       "\n",
       "    .dataframe thead th {\n",
       "        text-align: right;\n",
       "    }\n",
       "</style>\n",
       "<table border=\"1\" class=\"dataframe\">\n",
       "  <thead>\n",
       "    <tr style=\"text-align: right;\">\n",
       "      <th></th>\n",
       "      <th>seq</th>\n",
       "      <th>Len</th>\n",
       "      <th>id</th>\n",
       "    </tr>\n",
       "  </thead>\n",
       "  <tbody>\n",
       "    <tr>\n",
       "      <th>0</th>\n",
       "      <td>CAACCAGCAAGAGAACATCTGGCCTGCGGGCACCACTGCTACAGTG...</td>\n",
       "      <td>81</td>\n",
       "      <td>+</td>\n",
       "    </tr>\n",
       "    <tr>\n",
       "      <th>1</th>\n",
       "      <td>CCGCGACCTTTGCCGCAAGCCTCGGTCTGAAAGTTAACGCCGGACA...</td>\n",
       "      <td>81</td>\n",
       "      <td>+</td>\n",
       "    </tr>\n",
       "    <tr>\n",
       "      <th>2</th>\n",
       "      <td>CAAGAGCTGGCGCGTATCGCCAAAGCCGCGACCTTTGCCGCAAGCC...</td>\n",
       "      <td>81</td>\n",
       "      <td>+</td>\n",
       "    </tr>\n",
       "    <tr>\n",
       "      <th>3</th>\n",
       "      <td>TAGATGTCCTTGATTAACACCAAAATTAAACCTTTTAAAAACCAGG...</td>\n",
       "      <td>81</td>\n",
       "      <td>+</td>\n",
       "    </tr>\n",
       "    <tr>\n",
       "      <th>4</th>\n",
       "      <td>TATTTTATCTACAAAAACTGACTAAATAAAAATTTTTCACTAATTG...</td>\n",
       "      <td>81</td>\n",
       "      <td>+</td>\n",
       "    </tr>\n",
       "    <tr>\n",
       "      <th>...</th>\n",
       "      <td>...</td>\n",
       "      <td>...</td>\n",
       "      <td>...</td>\n",
       "    </tr>\n",
       "    <tr>\n",
       "      <th>2855</th>\n",
       "      <td>CAACCTTTTACCTTAAGGTTCCGGAAGGCTGGTTCATTCCGGCTGA...</td>\n",
       "      <td>81</td>\n",
       "      <td>-</td>\n",
       "    </tr>\n",
       "    <tr>\n",
       "      <th>2856</th>\n",
       "      <td>GGGCAGGCAAAAAATCAATCTTGATCCCGATATCGTCCGCGTTGCC...</td>\n",
       "      <td>81</td>\n",
       "      <td>-</td>\n",
       "    </tr>\n",
       "    <tr>\n",
       "      <th>2857</th>\n",
       "      <td>TGATTTGTATGGAAAAAATCTATGCCTATGCGGGATATATCGCCAT...</td>\n",
       "      <td>81</td>\n",
       "      <td>-</td>\n",
       "    </tr>\n",
       "    <tr>\n",
       "      <th>2858</th>\n",
       "      <td>ACTCAGTCATTCCCGCGCCCGAGGAAGGTGAAACGGCAACGTTTAT...</td>\n",
       "      <td>81</td>\n",
       "      <td>-</td>\n",
       "    </tr>\n",
       "    <tr>\n",
       "      <th>2859</th>\n",
       "      <td>GCGGCGGTATTTTCCACGATCTCTACAGCGTCTGGGGCGGTAGCGA...</td>\n",
       "      <td>81</td>\n",
       "      <td>-</td>\n",
       "    </tr>\n",
       "  </tbody>\n",
       "</table>\n",
       "<p>5720 rows × 3 columns</p>\n",
       "</div>"
      ],
      "text/plain": [
       "                                                    seq  Len id\n",
       "0     CAACCAGCAAGAGAACATCTGGCCTGCGGGCACCACTGCTACAGTG...   81  +\n",
       "1     CCGCGACCTTTGCCGCAAGCCTCGGTCTGAAAGTTAACGCCGGACA...   81  +\n",
       "2     CAAGAGCTGGCGCGTATCGCCAAAGCCGCGACCTTTGCCGCAAGCC...   81  +\n",
       "3     TAGATGTCCTTGATTAACACCAAAATTAAACCTTTTAAAAACCAGG...   81  +\n",
       "4     TATTTTATCTACAAAAACTGACTAAATAAAAATTTTTCACTAATTG...   81  +\n",
       "...                                                 ...  ... ..\n",
       "2855  CAACCTTTTACCTTAAGGTTCCGGAAGGCTGGTTCATTCCGGCTGA...   81  -\n",
       "2856  GGGCAGGCAAAAAATCAATCTTGATCCCGATATCGTCCGCGTTGCC...   81  -\n",
       "2857  TGATTTGTATGGAAAAAATCTATGCCTATGCGGGATATATCGCCAT...   81  -\n",
       "2858  ACTCAGTCATTCCCGCGCCCGAGGAAGGTGAAACGGCAACGTTTAT...   81  -\n",
       "2859  GCGGCGGTATTTTCCACGATCTCTACAGCGTCTGGGGCGGTAGCGA...   81  -\n",
       "\n",
       "[5720 rows x 3 columns]"
      ]
     },
     "execution_count": 7,
     "metadata": {},
     "output_type": "execute_result"
    }
   ],
   "source": [
    "df = positive_data.append(negative_data)\n",
    "df"
   ]
  },
  {
   "cell_type": "code",
   "execution_count": 8,
   "metadata": {
    "execution": {
     "iopub.execute_input": "2023-08-05T05:24:38.034909Z",
     "iopub.status.busy": "2023-08-05T05:24:38.034569Z",
     "iopub.status.idle": "2023-08-05T05:24:38.055946Z",
     "shell.execute_reply": "2023-08-05T05:24:38.054351Z",
     "shell.execute_reply.started": "2023-08-05T05:24:38.034876Z"
    }
   },
   "outputs": [
    {
     "name": "stdout",
     "output_type": "stream",
     "text": [
      "<class 'pandas.core.frame.DataFrame'>\n",
      "Int64Index: 5720 entries, 0 to 2859\n",
      "Data columns (total 3 columns):\n",
      " #   Column  Non-Null Count  Dtype \n",
      "---  ------  --------------  ----- \n",
      " 0   seq     5720 non-null   object\n",
      " 1   Len     5720 non-null   int64 \n",
      " 2   id      5720 non-null   object\n",
      "dtypes: int64(1), object(2)\n",
      "memory usage: 178.8+ KB\n"
     ]
    }
   ],
   "source": [
    "df.info()"
   ]
  },
  {
   "cell_type": "code",
   "execution_count": null,
   "metadata": {},
   "outputs": [],
   "source": []
  },
  {
   "cell_type": "code",
   "execution_count": 9,
   "metadata": {
    "execution": {
     "iopub.execute_input": "2023-08-05T05:24:38.058004Z",
     "iopub.status.busy": "2023-08-05T05:24:38.057549Z",
     "iopub.status.idle": "2023-08-05T05:24:38.067071Z",
     "shell.execute_reply": "2023-08-05T05:24:38.066021Z",
     "shell.execute_reply.started": "2023-08-05T05:24:38.057948Z"
    }
   },
   "outputs": [],
   "source": [
    "# duplicates = df['seq'].duplicated()\n",
    "# print(df[duplicates])\n"
   ]
  },
  {
   "cell_type": "code",
   "execution_count": 10,
   "metadata": {
    "execution": {
     "iopub.execute_input": "2023-08-05T05:24:38.069413Z",
     "iopub.status.busy": "2023-08-05T05:24:38.068920Z",
     "iopub.status.idle": "2023-08-05T05:24:38.078899Z",
     "shell.execute_reply": "2023-08-05T05:24:38.077882Z",
     "shell.execute_reply.started": "2023-08-05T05:24:38.069368Z"
    }
   },
   "outputs": [],
   "source": [
    "# df = df.drop_duplicates(subset='seq', keep='first')\n",
    "# df.info()"
   ]
  },
  {
   "cell_type": "code",
   "execution_count": 11,
   "metadata": {
    "execution": {
     "iopub.execute_input": "2023-08-05T05:24:38.081316Z",
     "iopub.status.busy": "2023-08-05T05:24:38.080871Z",
     "iopub.status.idle": "2023-08-05T05:24:38.461442Z",
     "shell.execute_reply": "2023-08-05T05:24:38.460566Z",
     "shell.execute_reply.started": "2023-08-05T05:24:38.081273Z"
    }
   },
   "outputs": [
    {
     "name": "stdout",
     "output_type": "stream",
     "text": [
      "sequence length value counts: 81    5720\n",
      "Name: lengths, dtype: int64\n"
     ]
    },
    {
     "data": {
      "image/png": "[encoded data removed]",
      "text/plain": [
       "<Figure size 432x288 with 1 Axes>"
      ]
     },
     "metadata": {
      "needs_background": "light"
     },
     "output_type": "display_data"
    }
   ],
   "source": [
    "#sequence lengths\n",
    "lengths = []\n",
    "for s in df['seq']: lengths.append(len(s))\n",
    "df['lengths'] = lengths\n",
    "print('sequence length value counts:', df['lengths'].value_counts())\n",
    "\n",
    "sns.distplot(df['lengths'],kde=False);"
   ]
  },
  {
   "cell_type": "code",
   "execution_count": 12,
   "metadata": {
    "execution": {
     "iopub.execute_input": "2023-08-05T05:24:38.463619Z",
     "iopub.status.busy": "2023-08-05T05:24:38.462982Z",
     "iopub.status.idle": "2023-08-05T05:24:38.746119Z",
     "shell.execute_reply": "2023-08-05T05:24:38.745032Z",
     "shell.execute_reply.started": "2023-08-05T05:24:38.463571Z"
    }
   },
   "outputs": [
    {
     "name": "stdout",
     "output_type": "stream",
     "text": [
      "number of classes: 2\n",
      "class: +    number of values: 2860\n",
      "class: -    number of values: 2860\n",
      "\n"
     ]
    },
    {
     "data": {
      "image/png": "[encoded data removed]",
      "text/plain": [
       "<Figure size 720x216 with 2 Axes>"
      ]
     },
     "metadata": {
      "needs_background": "light"
     },
     "output_type": "display_data"
    }
   ],
   "source": [
    "#class proportions\n",
    "n_classes = df['id'].nunique()\n",
    "print('number of classes:', n_classes)\n",
    "label_counts = df['id'].value_counts()\n",
    " \n",
    "for c,v in zip(label_counts.index, label_counts.values):\n",
    "    print('class: {}    number of values: {}'.format(c,v))    \n",
    "\n",
    "print('')\n",
    "plt.figure(figsize=(10,3));\n",
    "plt.subplot(1,2,1);\n",
    "sns.barplot(x= label_counts.index, y=label_counts.values, \n",
    "            color='Grey');\n",
    "plt.title('number of samples per class');\n",
    "plt.subplot(1,2,2);\n",
    "df['id'].value_counts().plot(kind='pie',autopct='%.1f%%');\n",
    "plt.title('class proportions');"
   ]
  },
  {
   "cell_type": "code",
   "execution_count": 13,
   "metadata": {
    "execution": {
     "iopub.execute_input": "2023-08-05T05:24:38.748384Z",
     "iopub.status.busy": "2023-08-05T05:24:38.747750Z",
     "iopub.status.idle": "2023-08-05T05:24:38.971700Z",
     "shell.execute_reply": "2023-08-05T05:24:38.970374Z",
     "shell.execute_reply.started": "2023-08-05T05:24:38.748338Z"
    }
   },
   "outputs": [
    {
     "data": {
      "image/png": "[encoded data removed]",
      "text/plain": [
       "<Figure size 432x288 with 1 Axes>"
      ]
     },
     "metadata": {
      "needs_background": "light"
     },
     "output_type": "display_data"
    }
   ],
   "source": [
    "# GC content boxplots\n",
    "\n",
    "def gc_content (s):\n",
    "    l = len(s)\n",
    "    lgc = 0\n",
    "    for c in s.lower():\n",
    "        if c in ['C','G']: lgc += 1\n",
    "    return lgc/l*100\n",
    "\n",
    "df['gc_content'] = df['seq'].apply(gc_content)\n",
    "\n",
    "sns.boxplot(x='id',y='gc_content',data=df);\n",
    "plt.title('GC content per id');"
   ]
  },
  {
   "cell_type": "markdown",
   "metadata": {},
   "source": [
    "On the above graph we see that the two classes have quite distinct GC contents. Later we will try classifying samples based on GC content alone."
   ]
  },
  {
   "cell_type": "code",
   "execution_count": 14,
   "metadata": {
    "execution": {
     "iopub.execute_input": "2023-08-05T05:24:38.973617Z",
     "iopub.status.busy": "2023-08-05T05:24:38.973288Z",
     "iopub.status.idle": "2023-08-05T05:24:38.979460Z",
     "shell.execute_reply": "2023-08-05T05:24:38.978410Z",
     "shell.execute_reply.started": "2023-08-05T05:24:38.973585Z"
    }
   },
   "outputs": [],
   "source": [
    "#generate list of codons\n",
    "alphabet = ['A','C','G','T']\n",
    "codon_list = []\n",
    "for a in alphabet:\n",
    "    for b in alphabet:\n",
    "        for c in alphabet:\n",
    "            codon_list.append(a+b+c)"
   ]
  },
  {
   "cell_type": "code",
   "execution_count": 15,
   "metadata": {
    "execution": {
     "iopub.execute_input": "2023-08-05T05:24:38.981116Z",
     "iopub.status.busy": "2023-08-05T05:24:38.980782Z",
     "iopub.status.idle": "2023-08-05T05:24:38.999608Z",
     "shell.execute_reply": "2023-08-05T05:24:38.998236Z",
     "shell.execute_reply.started": "2023-08-05T05:24:38.981083Z"
    }
   },
   "outputs": [
    {
     "data": {
      "text/plain": [
       "['AAA',\n",
       " 'AAC',\n",
       " 'AAG',\n",
       " 'AAT',\n",
       " 'ACA',\n",
       " 'ACC',\n",
       " 'ACG',\n",
       " 'ACT',\n",
       " 'AGA',\n",
       " 'AGC',\n",
       " 'AGG',\n",
       " 'AGT',\n",
       " 'ATA',\n",
       " 'ATC',\n",
       " 'ATG',\n",
       " 'ATT',\n",
       " 'CAA',\n",
       " 'CAC',\n",
       " 'CAG',\n",
       " 'CAT',\n",
       " 'CCA',\n",
       " 'CCC',\n",
       " 'CCG',\n",
       " 'CCT',\n",
       " 'CGA',\n",
       " 'CGC',\n",
       " 'CGG',\n",
       " 'CGT',\n",
       " 'CTA',\n",
       " 'CTC',\n",
       " 'CTG',\n",
       " 'CTT',\n",
       " 'GAA',\n",
       " 'GAC',\n",
       " 'GAG',\n",
       " 'GAT',\n",
       " 'GCA',\n",
       " 'GCC',\n",
       " 'GCG',\n",
       " 'GCT',\n",
       " 'GGA',\n",
       " 'GGC',\n",
       " 'GGG',\n",
       " 'GGT',\n",
       " 'GTA',\n",
       " 'GTC',\n",
       " 'GTG',\n",
       " 'GTT',\n",
       " 'TAA',\n",
       " 'TAC',\n",
       " 'TAG',\n",
       " 'TAT',\n",
       " 'TCA',\n",
       " 'TCC',\n",
       " 'TCG',\n",
       " 'TCT',\n",
       " 'TGA',\n",
       " 'TGC',\n",
       " 'TGG',\n",
       " 'TGT',\n",
       " 'TTA',\n",
       " 'TTC',\n",
       " 'TTG',\n",
       " 'TTT']"
      ]
     },
     "execution_count": 15,
     "metadata": {},
     "output_type": "execute_result"
    }
   ],
   "source": [
    "codon_list"
   ]
  },
  {
   "cell_type": "code",
   "execution_count": 16,
   "metadata": {
    "execution": {
     "iopub.execute_input": "2023-08-05T05:24:39.002105Z",
     "iopub.status.busy": "2023-08-05T05:24:39.001398Z",
     "iopub.status.idle": "2023-08-05T05:24:39.017468Z",
     "shell.execute_reply": "2023-08-05T05:24:39.016358Z",
     "shell.execute_reply.started": "2023-08-05T05:24:39.002062Z"
    }
   },
   "outputs": [],
   "source": [
    "# #create dataframe of which and how many codons each sample has\n",
    "\n",
    "# freqs = []\n",
    "\n",
    "# for codon in codon_list:\n",
    "#     for s in df['seq']:\n",
    "#         freqs.append(s.count(codon))\n",
    "        \n",
    "# freqs = np.reshape(np.array(freqs),(df.shape[2],len(codon_list)))\n",
    "# cf = pd.DataFrame(data=freqs,columns=codon_list,dtype='int')\n",
    "# cf['label']=df['id']\n",
    "# cf.head(2)"
   ]
  },
  {
   "cell_type": "code",
   "execution_count": 17,
   "metadata": {
    "execution": {
     "iopub.execute_input": "2023-08-05T05:24:39.019449Z",
     "iopub.status.busy": "2023-08-05T05:24:39.019035Z",
     "iopub.status.idle": "2023-08-05T05:24:39.032162Z",
     "shell.execute_reply": "2023-08-05T05:24:39.031156Z",
     "shell.execute_reply.started": "2023-08-05T05:24:39.019412Z"
    }
   },
   "outputs": [],
   "source": [
    "# #create dataframe with normalized codon frequency for each class\n",
    "# #will use to make plot\n",
    "\n",
    "# positives = []\n",
    "# negatives = []\n",
    "\n",
    "# for codon in codon_list:\n",
    "#     positives.append(cf[cf['label'] == '+'][codon].sum()/5720)\n",
    "#     negatives.append(cf[cf['label'] == '-'][codon].sum()/5720)\n",
    "\n",
    "# codon_freqs = pd.DataFrame([])\n",
    "# for c,n,p in zip(codon_list,negatives,positives): codon_freqs[c]=pd.Series([n,p])\n",
    "# codon_freqs.head()"
   ]
  },
  {
   "cell_type": "code",
   "execution_count": 18,
   "metadata": {
    "execution": {
     "iopub.execute_input": "2023-08-05T05:24:39.034307Z",
     "iopub.status.busy": "2023-08-05T05:24:39.033917Z",
     "iopub.status.idle": "2023-08-05T05:24:39.045917Z",
     "shell.execute_reply": "2023-08-05T05:24:39.044825Z",
     "shell.execute_reply.started": "2023-08-05T05:24:39.034252Z"
    }
   },
   "outputs": [],
   "source": [
    "# # generate plot with codon frequencies for each class\n",
    "\n",
    "# width = np.sum((cf.groupby(by='label').sum()/5720).values,axis=0).max()\n",
    "# fig,ax=plt.subplots(figsize=(5,12));\n",
    "# ax.invert_yaxis();\n",
    "# ax.xaxis.set_visible(False);\n",
    "# ax.set_xlim(0,width);\n",
    "# ax.barh(codon_list,(cf.groupby(by='label').sum()/5720).iloc[0],\n",
    "#        left=width/2-(cf.groupby(by='label').sum()/5720).iloc[0]);\n",
    "# ax.barh(codon_list,(cf.groupby(by='label').sum()/5720).iloc[1],\n",
    "#       left=width/2);\n",
    "# plt.title('codon frequencies per class');"
   ]
  },
  {
   "cell_type": "markdown",
   "metadata": {},
   "source": [
    "# Classification on Statistical Features"
   ]
  },
  {
   "cell_type": "markdown",
   "metadata": {},
   "source": [
    "We will start experimentation by trying out the oldschool technique of classifying based on extracted statistical features.\n",
    "\n",
    "First, we will only take account of GC content. After trying different threshold value, we found the best value to be 43. Sequences with GC content higher than or equal to 43 will be classified as positive, and the rest as negative. That alone will give us an accuracy of 71.69%, as seen in the cell below"
   ]
  },
  {
   "cell_type": "code",
   "execution_count": 19,
   "metadata": {
    "execution": {
     "iopub.execute_input": "2023-08-05T05:24:39.047822Z",
     "iopub.status.busy": "2023-08-05T05:24:39.047462Z",
     "iopub.status.idle": "2023-08-05T05:24:39.065612Z",
     "shell.execute_reply": "2023-08-05T05:24:39.063984Z",
     "shell.execute_reply.started": "2023-08-05T05:24:39.047787Z"
    }
   },
   "outputs": [],
   "source": [
    "# #classify on gc_content\n",
    "\n",
    "# from sklearn.preprocessing import LabelEncoder\n",
    "\n",
    "# lbl = LabelEncoder()\n",
    "# y = lbl.fit_transform(df['class'].values)\n",
    "\n",
    "# #classify samples on whether gc_content is aboveor below 43%\n",
    "# ccs = []\n",
    "# for i in df['gc_content']:\n",
    "#     if i < 43: ccs.append(0)\n",
    "#     else: ccs.append(1)\n",
    "    \n",
    "# from sklearn.metrics import accuracy_score, f1_score,confusion_matrix\n",
    "# print('accuracy:', accuracy_score(y,ccs))\n",
    "# print('f1-score:', f1_score(y,ccs))\n",
    "# sns.heatmap(confusion_matrix(y,ccs),annot=True,fmt='1d');\n",
    "\n",
    "# results['GC_content->thresholding'] = [accuracy_score(y,ccs), f1_score(y,ccs)]"
   ]
  },
  {
   "cell_type": "markdown",
   "metadata": {},
   "source": [
    "Now we will combine GC content with codon frequencies. We will integrate them into a dataset and train Logistic Regression and Random Forest models on the data."
   ]
  },
  {
   "cell_type": "markdown",
   "metadata": {},
   "source": [
    "#### Data Preparation"
   ]
  },
  {
   "cell_type": "code",
   "execution_count": 20,
   "metadata": {
    "execution": {
     "iopub.execute_input": "2023-08-05T05:24:39.067856Z",
     "iopub.status.busy": "2023-08-05T05:24:39.067501Z",
     "iopub.status.idle": "2023-08-05T05:24:39.077320Z",
     "shell.execute_reply": "2023-08-05T05:24:39.076299Z",
     "shell.execute_reply.started": "2023-08-05T05:24:39.067823Z"
    }
   },
   "outputs": [],
   "source": [
    "# # combine codon frequencies and gc_content into a dataframe\n",
    "# cf['gc_content'] = df['gc_content']\n",
    "# cf.head(3)"
   ]
  },
  {
   "cell_type": "code",
   "execution_count": 21,
   "metadata": {
    "execution": {
     "iopub.execute_input": "2023-08-05T05:24:39.079072Z",
     "iopub.status.busy": "2023-08-05T05:24:39.078752Z",
     "iopub.status.idle": "2023-08-05T05:24:39.090884Z",
     "shell.execute_reply": "2023-08-05T05:24:39.089784Z",
     "shell.execute_reply.started": "2023-08-05T05:24:39.079040Z"
    }
   },
   "outputs": [],
   "source": [
    "# #libraries and data needed\n",
    "# from sklearn.linear_model import LogisticRegression\n",
    "# from sklearn.model_selection import train_test_split\n",
    "# from sklearn.preprocessing import LabelEncoder\n",
    "# from sklearn.metrics import accuracy_score, f1_score, confusion_matrix\n",
    "\n",
    "\n",
    "# lab = LabelEncoder()\n",
    "# y = lab.fit_transform(cf['label'].values)\n",
    "\n",
    "# x = cf.drop(columns='label').values\n",
    "\n",
    "# x_tr,x_ts, y_tr, y_ts = train_test_split(x,y,test_size=0.1)"
   ]
  },
  {
   "cell_type": "markdown",
   "metadata": {},
   "source": [
    "#### Logistic Regression on Statistical Features"
   ]
  },
  {
   "cell_type": "code",
   "execution_count": 22,
   "metadata": {
    "execution": {
     "iopub.execute_input": "2023-08-05T05:24:39.093339Z",
     "iopub.status.busy": "2023-08-05T05:24:39.092673Z",
     "iopub.status.idle": "2023-08-05T05:24:39.102776Z",
     "shell.execute_reply": "2023-08-05T05:24:39.101845Z",
     "shell.execute_reply.started": "2023-08-05T05:24:39.093293Z"
    }
   },
   "outputs": [],
   "source": [
    "# lr = LogisticRegression()\n",
    "# lr.fit(x_tr,y_tr)\n",
    "# pred=lr.predict(x_ts)\n",
    "# print('accuracy:', accuracy_score(y_ts,pred))\n",
    "# print('f1-score:', f1_score(y_ts,pred))\n",
    "# sns.heatmap(confusion_matrix(y_ts,pred),annot=True,fmt='1d');\n",
    "\n",
    "# results['Statistical features -> Logistic Regression'] = [accuracy_score(y_ts,pred), f1_score(y_ts,pred)]"
   ]
  },
  {
   "cell_type": "markdown",
   "metadata": {},
   "source": [
    "#### Random Forest on Statistical Features"
   ]
  },
  {
   "cell_type": "code",
   "execution_count": 23,
   "metadata": {
    "execution": {
     "iopub.execute_input": "2023-08-05T05:24:39.104804Z",
     "iopub.status.busy": "2023-08-05T05:24:39.104295Z",
     "iopub.status.idle": "2023-08-05T05:24:39.116383Z",
     "shell.execute_reply": "2023-08-05T05:24:39.115279Z",
     "shell.execute_reply.started": "2023-08-05T05:24:39.104769Z"
    }
   },
   "outputs": [],
   "source": [
    "# from sklearn.ensemble import RandomForestClassifier\n",
    "# rf = RandomForestClassifier(n_estimators=2000,max_depth=7)\n",
    "# rf.fit(x_tr,y_tr)\n",
    "# pred = rf.predict(x_ts)\n",
    "# print('accuracy:', accuracy_score(y_ts,pred))\n",
    "# print('f1-score:', f1_score(y_ts,pred))\n",
    "# sns.heatmap(confusion_matrix(y_ts,pred),annot=True,fmt='1d');\n",
    "\n",
    "# results['Statistical features -> Random Forest'] = [accuracy_score(y_ts,pred), f1_score(y_ts,pred)]"
   ]
  },
  {
   "cell_type": "markdown",
   "metadata": {},
   "source": [
    "## Classification on Hexamers"
   ]
  },
  {
   "cell_type": "markdown",
   "metadata": {},
   "source": [
    "Classification on k-mers is also widely used. Here, we will use hexamers (k=6). We will make a list of all the possible hexamers of the characters [a,c,g,t] and we will encode each sequence as a vector of length = n_hexamers where, for each position in the vector, we will assign a value of 1 if the sequence contains that particular hexamer, 0 otherwise.\n",
    "\n",
    "Notice that this method yields the highest performance on this particular dataset, but this will not always be the case. Experimentation with other methods is necessary, hence, we will later demonstrate classification on two other data representations."
   ]
  },
  {
   "cell_type": "markdown",
   "metadata": {},
   "source": [
    "#### Hexamer analysis"
   ]
  },
  {
   "cell_type": "code",
   "execution_count": 24,
   "metadata": {
    "execution": {
     "iopub.execute_input": "2023-08-05T05:24:39.118421Z",
     "iopub.status.busy": "2023-08-05T05:24:39.118034Z",
     "iopub.status.idle": "2023-08-05T05:24:57.112081Z",
     "shell.execute_reply": "2023-08-05T05:24:57.110987Z",
     "shell.execute_reply.started": "2023-08-05T05:24:39.118385Z"
    }
   },
   "outputs": [
    {
     "data": {
      "text/html": [
       "<div>\n",
       "<style scoped>\n",
       "    .dataframe tbody tr th:only-of-type {\n",
       "        vertical-align: middle;\n",
       "    }\n",
       "\n",
       "    .dataframe tbody tr th {\n",
       "        vertical-align: top;\n",
       "    }\n",
       "\n",
       "    .dataframe thead th {\n",
       "        text-align: right;\n",
       "    }\n",
       "</style>\n",
       "<table border=\"1\" class=\"dataframe\">\n",
       "  <thead>\n",
       "    <tr style=\"text-align: right;\">\n",
       "      <th></th>\n",
       "      <th>AAAAAA</th>\n",
       "      <th>AAAAAC</th>\n",
       "      <th>AAAAAG</th>\n",
       "      <th>AAAAAT</th>\n",
       "      <th>AAAACA</th>\n",
       "      <th>AAAACC</th>\n",
       "      <th>AAAACG</th>\n",
       "      <th>AAAACT</th>\n",
       "      <th>AAAAGA</th>\n",
       "      <th>AAAAGC</th>\n",
       "      <th>...</th>\n",
       "      <th>TTTTCG</th>\n",
       "      <th>TTTTCT</th>\n",
       "      <th>TTTTGA</th>\n",
       "      <th>TTTTGC</th>\n",
       "      <th>TTTTGG</th>\n",
       "      <th>TTTTGT</th>\n",
       "      <th>TTTTTA</th>\n",
       "      <th>TTTTTC</th>\n",
       "      <th>TTTTTG</th>\n",
       "      <th>TTTTTT</th>\n",
       "    </tr>\n",
       "  </thead>\n",
       "  <tbody>\n",
       "    <tr>\n",
       "      <th>0</th>\n",
       "      <td>0</td>\n",
       "      <td>0</td>\n",
       "      <td>0</td>\n",
       "      <td>0</td>\n",
       "      <td>0</td>\n",
       "      <td>0</td>\n",
       "      <td>0</td>\n",
       "      <td>0</td>\n",
       "      <td>0</td>\n",
       "      <td>0</td>\n",
       "      <td>...</td>\n",
       "      <td>0</td>\n",
       "      <td>0</td>\n",
       "      <td>0</td>\n",
       "      <td>0</td>\n",
       "      <td>0</td>\n",
       "      <td>0</td>\n",
       "      <td>0</td>\n",
       "      <td>0</td>\n",
       "      <td>0</td>\n",
       "      <td>0</td>\n",
       "    </tr>\n",
       "    <tr>\n",
       "      <th>1</th>\n",
       "      <td>0</td>\n",
       "      <td>0</td>\n",
       "      <td>0</td>\n",
       "      <td>0</td>\n",
       "      <td>0</td>\n",
       "      <td>0</td>\n",
       "      <td>0</td>\n",
       "      <td>0</td>\n",
       "      <td>0</td>\n",
       "      <td>0</td>\n",
       "      <td>...</td>\n",
       "      <td>0</td>\n",
       "      <td>0</td>\n",
       "      <td>0</td>\n",
       "      <td>0</td>\n",
       "      <td>0</td>\n",
       "      <td>0</td>\n",
       "      <td>0</td>\n",
       "      <td>0</td>\n",
       "      <td>0</td>\n",
       "      <td>0</td>\n",
       "    </tr>\n",
       "  </tbody>\n",
       "</table>\n",
       "<p>2 rows × 4096 columns</p>\n",
       "</div>"
      ],
      "text/plain": [
       "   AAAAAA  AAAAAC  AAAAAG  AAAAAT  AAAACA  AAAACC  AAAACG  AAAACT  AAAAGA  \\\n",
       "0       0       0       0       0       0       0       0       0       0   \n",
       "1       0       0       0       0       0       0       0       0       0   \n",
       "\n",
       "   AAAAGC  ...  TTTTCG  TTTTCT  TTTTGA  TTTTGC  TTTTGG  TTTTGT  TTTTTA  \\\n",
       "0       0  ...       0       0       0       0       0       0       0   \n",
       "1       0  ...       0       0       0       0       0       0       0   \n",
       "\n",
       "   TTTTTC  TTTTTG  TTTTTT  \n",
       "0       0       0       0  \n",
       "1       0       0       0  \n",
       "\n",
       "[2 rows x 4096 columns]"
      ]
     },
     "execution_count": 24,
     "metadata": {},
     "output_type": "execute_result"
    }
   ],
   "source": [
    "#hexamers\n",
    "alphabet = ['A','C','G','T']\n",
    "exa_list = []\n",
    "for a in alphabet:\n",
    "    for b in alphabet:\n",
    "        for c in alphabet:\n",
    "            for d in alphabet:\n",
    "                for e in alphabet:\n",
    "                    for f in alphabet:  exa_list.append(a+b+c+d+e+f)\n",
    "\n",
    "#create arrays for each hexamer, len = n_samples\n",
    "#if sample x contains hexamer h, then h[x]=1, else 0\n",
    "exarray = np.zeros((df.shape[0],len(exa_list)),dtype='int')\n",
    "for i,s in enumerate(df['seq']):\n",
    "    for j,ex in enumerate(exa_list):\n",
    "        if ex in s: exarray[i,j] = 1\n",
    "\n",
    "#merge arrays into a dataframe\n",
    "examers = pd.DataFrame([])\n",
    "for i,ex in enumerate(exa_list):\n",
    "    examers[ex] = pd.Series(exarray[:,i])\n",
    "    \n",
    "examers.head(2)"
   ]
  },
  {
   "cell_type": "code",
   "execution_count": 25,
   "metadata": {
    "execution": {
     "iopub.execute_input": "2023-08-05T05:24:57.114659Z",
     "iopub.status.busy": "2023-08-05T05:24:57.114168Z",
     "iopub.status.idle": "2023-08-05T05:27:01.023963Z",
     "shell.execute_reply": "2023-08-05T05:27:01.022867Z",
     "shell.execute_reply.started": "2023-08-05T05:24:57.114613Z"
    }
   },
   "outputs": [
    {
     "data": {
      "image/png": "[encoded data removed]",
      "text/plain": [
       "<Figure size 432x288 with 1 Axes>"
      ]
     },
     "metadata": {
      "needs_background": "light"
     },
     "output_type": "display_data"
    },
    {
     "data": {
      "image/png": "[encoded data removed]",
      "text/plain": [
       "<Figure size 432x288 with 1 Axes>"
      ]
     },
     "metadata": {
      "needs_background": "light"
     },
     "output_type": "display_data"
    },
    {
     "data": {
      "image/png": "[encoded data removed]",
      "text/plain": [
       "<Figure size 432x288 with 1 Axes>"
      ]
     },
     "metadata": {
      "needs_background": "light"
     },
     "output_type": "display_data"
    }
   ],
   "source": [
    "#visualize dataframe with PCA\n",
    "from sklearn.decomposition import PCA\n",
    "from sklearn.preprocessing import LabelEncoder\n",
    "\n",
    "\n",
    "enc = LabelEncoder()\n",
    "y= enc.fit_transform(df['id'].values)\n",
    "\n",
    "pca = PCA()\n",
    "ex_pca = pca.fit_transform(examers.values)\n",
    "\n",
    "plt.figure();\n",
    "ax = plt.axes(projection='3d');\n",
    "ax.scatter(ex_pca[:,0], ex_pca[:,1], ex_pca[:,2], c=y, cmap='winter');\n",
    "plt.title('PCA scatterplot (3 principal components)');\n",
    "\n",
    "plt.figure();\n",
    "var_index = np.arange(pca.explained_variance_.shape[0])+1\n",
    "sns.barplot(var_index,pca.explained_variance_ratio_,color='gray');\n",
    "plt.title('Explained Variance');\n",
    "\n",
    "plt.figure();\n",
    "sns.lineplot(var_index, pca.explained_variance_ratio_.cumsum());\n",
    "plt.title('Cumulative Explained Variance');"
   ]
  },
  {
   "cell_type": "code",
   "execution_count": 26,
   "metadata": {
    "execution": {
     "iopub.execute_input": "2023-08-05T05:27:01.026770Z",
     "iopub.status.busy": "2023-08-05T05:27:01.026306Z",
     "iopub.status.idle": "2023-08-05T05:40:19.067909Z",
     "shell.execute_reply": "2023-08-05T05:40:19.066885Z",
     "shell.execute_reply.started": "2023-08-05T05:27:01.026723Z"
    }
   },
   "outputs": [
    {
     "data": {
      "image/png": "[encoded data removed]",
      "text/plain": [
       "<Figure size 432x288 with 1 Axes>"
      ]
     },
     "metadata": {
      "needs_background": "light"
     },
     "output_type": "display_data"
    },
    {
     "data": {
      "image/png": "[encoded data removed]",
      "text/plain": [
       "<Figure size 432x288 with 1 Axes>"
      ]
     },
     "metadata": {
      "needs_background": "light"
     },
     "output_type": "display_data"
    }
   ],
   "source": [
    "#visualize dataframe with t-SNE\n",
    "\n",
    "from sklearn.manifold import TSNE\n",
    "\n",
    "tsne = TSNE(n_components=3, random_state=33)\n",
    "ts_ex = tsne.fit_transform(examers.values)\n",
    "\n",
    "sns.scatterplot(ts_ex[:,0], ts_ex[:,1],hue=y);\n",
    "plt.title('t-SNE decomposition scatterplot (2 components)');\n",
    "plt.figure();\n",
    "ax = plt.axes(projection='3d');\n",
    "ax.scatter(ts_ex[:,0], ts_ex[:,1], ts_ex[:,2], c=y, cmap='winter');\n",
    "plt.title('t-SNE decomposition scatterplot (3 components)');"
   ]
  },
  {
   "cell_type": "markdown",
   "metadata": {},
   "source": [
    "#### Logistic Regression on Hexamers"
   ]
  },
  {
   "cell_type": "code",
   "execution_count": 27,
   "metadata": {
    "execution": {
     "iopub.execute_input": "2023-08-05T05:40:19.074842Z",
     "iopub.status.busy": "2023-08-05T05:40:19.072479Z",
     "iopub.status.idle": "2023-08-05T05:40:24.729556Z",
     "shell.execute_reply": "2023-08-05T05:40:24.728361Z",
     "shell.execute_reply.started": "2023-08-05T05:40:19.074777Z"
    }
   },
   "outputs": [
    {
     "name": "stdout",
     "output_type": "stream",
     "text": [
      "accuracy: 0.7307692307692307\n",
      "f1-score: 0.7169117647058824\n"
     ]
    },
    {
     "data": {
      "image/png": "[encoded data removed]",
      "text/plain": [
       "<Figure size 432x288 with 2 Axes>"
      ]
     },
     "metadata": {
      "needs_background": "light"
     },
     "output_type": "display_data"
    }
   ],
   "source": [
    "from sklearn.linear_model import LogisticRegression\n",
    "from sklearn.model_selection import train_test_split\n",
    "from sklearn.metrics import accuracy_score, f1_score, confusion_matrix\n",
    "x_tr,x_ts,y_tr,y_ts = train_test_split(examers.values, y, test_size=0.1,random_state=33)\n",
    "\n",
    "lr=LogisticRegression()\n",
    "lr.fit(x_tr,y_tr)\n",
    "pred=lr.predict(x_ts)\n",
    "print('accuracy:', accuracy_score(y_ts,pred))\n",
    "print('f1-score:', f1_score(y_ts,pred))\n",
    "sns.heatmap(confusion_matrix(y_ts,pred),annot=True,fmt='1d');\n",
    "\n",
    "results['Hexamers -> Logistic Regression'] = [accuracy_score(y_ts,pred), f1_score(y_ts,pred)]"
   ]
  },
  {
   "cell_type": "markdown",
   "metadata": {},
   "source": [
    "#### Logistic Regression on PCA-decomposed Hexamers"
   ]
  },
  {
   "cell_type": "code",
   "execution_count": 28,
   "metadata": {
    "execution": {
     "iopub.execute_input": "2023-08-05T05:40:24.732252Z",
     "iopub.status.busy": "2023-08-05T05:40:24.731663Z",
     "iopub.status.idle": "2023-08-05T05:40:24.977466Z",
     "shell.execute_reply": "2023-08-05T05:40:24.976116Z",
     "shell.execute_reply.started": "2023-08-05T05:40:24.732185Z"
    }
   },
   "outputs": [
    {
     "name": "stdout",
     "output_type": "stream",
     "text": [
      "accuracy: 0.7972027972027972\n",
      "f1-score: 0.7928571428571429\n"
     ]
    },
    {
     "data": {
      "image/png": "[encoded data removed]",
      "text/plain": [
       "<Figure size 432x288 with 2 Axes>"
      ]
     },
     "metadata": {
      "needs_background": "light"
     },
     "output_type": "display_data"
    }
   ],
   "source": [
    "x_pca = ex_pca[:,:40]\n",
    "x_pca_tr,x_pca_ts,y_tr,y_ts = train_test_split(x_pca, y, test_size=0.1,random_state=33)\n",
    "lr1=LogisticRegression()\n",
    "lr1.fit(x_pca_tr,y_tr)\n",
    "pred=lr1.predict(x_pca_ts)\n",
    "print('accuracy:', accuracy_score(y_ts,pred))\n",
    "print('f1-score:', f1_score(y_ts,pred))\n",
    "sns.heatmap(confusion_matrix(y_ts,pred),annot=True,fmt='1d');\n",
    "\n",
    "results['PCA-decomposed Hexamers -> Logistic Regression'] = [accuracy_score(y_ts,pred), f1_score(y_ts,pred)]"
   ]
  },
  {
   "cell_type": "markdown",
   "metadata": {},
   "source": [
    "#### Random Forest on Hexamers"
   ]
  },
  {
   "cell_type": "code",
   "execution_count": 29,
   "metadata": {
    "execution": {
     "iopub.execute_input": "2023-08-05T05:40:24.979536Z",
     "iopub.status.busy": "2023-08-05T05:40:24.979064Z",
     "iopub.status.idle": "2023-08-05T05:44:10.165159Z",
     "shell.execute_reply": "2023-08-05T05:44:10.164014Z",
     "shell.execute_reply.started": "2023-08-05T05:40:24.979498Z"
    }
   },
   "outputs": [
    {
     "name": "stdout",
     "output_type": "stream",
     "text": [
      "accuracy: 0.8024475524475524\n",
      "f1-score: 0.7855787476280836\n"
     ]
    },
    {
     "data": {
      "image/png": "[encoded data removed]",
      "text/plain": [
       "<Figure size 432x288 with 2 Axes>"
      ]
     },
     "metadata": {
      "needs_background": "light"
     },
     "output_type": "display_data"
    }
   ],
   "source": [
    "from sklearn.ensemble import RandomForestClassifier\n",
    "rf = RandomForestClassifier(n_estimators=2000)\n",
    "rf.fit(x_tr,y_tr)\n",
    "pred = rf.predict(x_ts)\n",
    "print('accuracy:', accuracy_score(y_ts,pred))\n",
    "print('f1-score:', f1_score(y_ts,pred))\n",
    "sns.heatmap(confusion_matrix(y_ts,pred),annot=True,fmt='1d');\n",
    "\n",
    "results['Hexamers -> Random Forest'] = [accuracy_score(y_ts,pred), f1_score(y_ts,pred)]"
   ]
  },
  {
   "cell_type": "markdown",
   "metadata": {},
   "source": [
    "## Classification of Embedded Hexamers"
   ]
  },
  {
   "cell_type": "markdown",
   "metadata": {},
   "source": [
    "Now we will convert the nucleotide sequences into sequences of hexamers using a 'sliding window', and we will encode these using a keras Embedding layer, then train deep learning models."
   ]
  },
  {
   "cell_type": "code",
   "execution_count": 30,
   "metadata": {
    "execution": {
     "iopub.execute_input": "2023-08-05T05:44:10.167515Z",
     "iopub.status.busy": "2023-08-05T05:44:10.166847Z",
     "iopub.status.idle": "2023-08-05T05:44:16.694043Z",
     "shell.execute_reply": "2023-08-05T05:44:16.692954Z",
     "shell.execute_reply.started": "2023-08-05T05:44:10.167466Z"
    }
   },
   "outputs": [
    {
     "data": {
      "text/plain": [
       "(5720, 75)"
      ]
     },
     "execution_count": 30,
     "metadata": {},
     "output_type": "execute_result"
    }
   ],
   "source": [
    "#generate matrix with rows=n_samples, columns=len(samples)-6\n",
    "#hexamers are stored sequentially\n",
    "for i,seq in enumerate(df['seq']):\n",
    "    temp=[]\n",
    "    for j in range(len(seq)-6):\n",
    "        temp.append(seq[j:j+6])\n",
    "    if i == 0: hexes = np.array(temp)\n",
    "    else: hexes = np.vstack((hexes,temp))\n",
    "        \n",
    "hexes.shape"
   ]
  },
  {
   "cell_type": "code",
   "execution_count": 31,
   "metadata": {
    "execution": {
     "iopub.execute_input": "2023-08-05T05:44:16.695924Z",
     "iopub.status.busy": "2023-08-05T05:44:16.695586Z",
     "iopub.status.idle": "2023-08-05T05:44:16.702652Z",
     "shell.execute_reply": "2023-08-05T05:44:16.701480Z",
     "shell.execute_reply.started": "2023-08-05T05:44:16.695892Z"
    }
   },
   "outputs": [
    {
     "data": {
      "text/plain": [
       "array(['CAACCA', 'AACCAG', 'ACCAGC', 'CCAGCA', 'CAGCAA', 'AGCAAG',\n",
       "       'GCAAGA', 'CAAGAG', 'AAGAGA', 'AGAGAA', 'GAGAAC', 'AGAACA',\n",
       "       'GAACAT', 'AACATC', 'ACATCT', 'CATCTG', 'ATCTGG', 'TCTGGC',\n",
       "       'CTGGCC', 'TGGCCT', 'GGCCTG', 'GCCTGC', 'CCTGCG', 'CTGCGG',\n",
       "       'TGCGGG', 'GCGGGC', 'CGGGCA', 'GGGCAC', 'GGCACC', 'GCACCA',\n",
       "       'CACCAC', 'ACCACT', 'CCACTG', 'CACTGC', 'ACTGCT', 'CTGCTA',\n",
       "       'TGCTAC', 'GCTACA', 'CTACAG', 'TACAGT', 'ACAGTG', 'CAGTGG',\n",
       "       'AGTGGT', 'GTGGTG', 'TGGTGG', 'GGTGGT', 'GTGGTC', 'TGGTCA',\n",
       "       'GGTCAC', 'GTCACT', 'TCACTG', 'CACTGG', 'ACTGGC', 'CTGGCA',\n",
       "       'TGGCAA', 'GGCAAA', 'GCAAAC', 'CAAACA', 'AAACAA', 'AACAAG',\n",
       "       'ACAAGA', 'CAAGAT', 'AAGATC', 'AGATCG', 'GATCGC', 'ATCGCG',\n",
       "       'TCGCGA', 'CGCGAC', 'GCGACG', 'CGACGA', 'GACGAA', 'ACGAAA',\n",
       "       'CGAAAG', 'GAAAGC', 'AAAGCC'], dtype='<U6')"
      ]
     },
     "execution_count": 31,
     "metadata": {},
     "output_type": "execute_result"
    }
   ],
   "source": [
    "hexes[0]"
   ]
  },
  {
   "cell_type": "code",
   "execution_count": 32,
   "metadata": {
    "execution": {
     "iopub.execute_input": "2023-08-05T05:44:16.710268Z",
     "iopub.status.busy": "2023-08-05T05:44:16.709859Z",
     "iopub.status.idle": "2023-08-05T05:44:16.966797Z",
     "shell.execute_reply": "2023-08-05T05:44:16.965630Z",
     "shell.execute_reply.started": "2023-08-05T05:44:16.710234Z"
    }
   },
   "outputs": [
    {
     "data": {
      "text/plain": [
       "'CAACCA AACCAG ACCAGC CCAGCA CAGCAA AGCAAG GCAAGA CAAGAG AAGAGA AGAGAA GAGAAC AGAACA GAACAT AACATC ACATCT CATCTG ATCTGG TCTGGC CTGGCC TGGCCT GGCCTG GCCTGC CCTGCG CTGCGG TGCGGG GCGGGC CGGGCA GGGCAC GGCACC GCACCA CACCAC ACCACT CCACTG CACTGC ACTGCT CTGCTA TGCTAC GCTACA CTACAG TACAGT ACAGTG CAGTGG AGTGGT GTGGTG TGGTGG GGTGGT GTGGTC TGGTCA GGTCAC GTCACT TCACTG CACTGG ACTGGC CTGGCA TGGCAA GGCAAA GCAAAC CAAACA AAACAA AACAAG ACAAGA CAAGAT AAGATC AGATCG GATCGC ATCGCG TCGCGA CGCGAC GCGACG CGACGA GACGAA ACGAAA CGAAAG GAAAGC AAAGCC'"
      ]
     },
     "execution_count": 32,
     "metadata": {},
     "output_type": "execute_result"
    }
   ],
   "source": [
    "# merge each row into a single item, hexamers divided by ' '.\n",
    "# rows now form a list of len=n_samples\n",
    "hexamers = [' '.join(hexs) for hexs in hexes]\n",
    "hexamers[0]"
   ]
  },
  {
   "cell_type": "code",
   "execution_count": 33,
   "metadata": {
    "execution": {
     "iopub.execute_input": "2023-08-05T05:44:16.968632Z",
     "iopub.status.busy": "2023-08-05T05:44:16.968286Z",
     "iopub.status.idle": "2023-08-05T05:44:24.062255Z",
     "shell.execute_reply": "2023-08-05T05:44:24.061161Z",
     "shell.execute_reply.started": "2023-08-05T05:44:16.968598Z"
    }
   },
   "outputs": [
    {
     "name": "stdout",
     "output_type": "stream",
     "text": [
      "tokenizer index length: 4095\n"
     ]
    }
   ],
   "source": [
    "#tokenize data, prepare train-test set\n",
    "from keras.preprocessing.text import Tokenizer\n",
    "from sklearn.model_selection import train_test_split\n",
    "from sklearn.preprocessing import LabelEncoder\n",
    "\n",
    "tknizer = Tokenizer()\n",
    "tknizer.fit_on_texts(hexamers)\n",
    "tokened = np.array(tknizer.texts_to_sequences(hexamers))\n",
    "index_length = len(tknizer.word_index) + 1\n",
    "print('tokenizer index length:', index_length)\n",
    "\n",
    "lab = LabelEncoder()\n",
    "y = lab.fit_transform(df['id'].values)\n",
    "\n",
    "x_tr, x_ts, y_tr, y_ts = train_test_split(tokened,y,\n",
    "                                         test_size=0.1,random_state=33)"
   ]
  },
  {
   "cell_type": "markdown",
   "metadata": {},
   "source": [
    "#### Bidirectional LSTM on Sequential Embedded Hexamers"
   ]
  },
  {
   "cell_type": "code",
   "execution_count": 34,
   "metadata": {
    "execution": {
     "iopub.execute_input": "2023-08-05T05:44:24.065614Z",
     "iopub.status.busy": "2023-08-05T05:44:24.065196Z",
     "iopub.status.idle": "2023-08-05T05:45:17.883703Z",
     "shell.execute_reply": "2023-08-05T05:45:17.882617Z",
     "shell.execute_reply.started": "2023-08-05T05:44:24.065574Z"
    }
   },
   "outputs": [
    {
     "name": "stdout",
     "output_type": "stream",
     "text": [
      "Epoch 1/10\n",
      "145/145 [==============================] - 7s 15ms/step - loss: 0.5845 - acc: 0.6924 - val_loss: 0.4411 - val_acc: 0.8058\n",
      "Epoch 2/10\n",
      "145/145 [==============================] - 2s 11ms/step - loss: 0.4048 - acc: 0.8368 - val_loss: 0.4276 - val_acc: 0.8252\n",
      "Epoch 3/10\n",
      "145/145 [==============================] - 2s 11ms/step - loss: 0.3345 - acc: 0.8744 - val_loss: 0.5076 - val_acc: 0.7961\n",
      "Epoch 4/10\n",
      "145/145 [==============================] - 2s 11ms/step - loss: 0.2858 - acc: 0.9018 - val_loss: 0.4883 - val_acc: 0.8019\n",
      "Epoch 5/10\n",
      "145/145 [==============================] - 2s 11ms/step - loss: 0.2456 - acc: 0.9191 - val_loss: 0.5632 - val_acc: 0.7825\n",
      "Epoch 6/10\n",
      "145/145 [==============================] - 2s 11ms/step - loss: 0.2148 - acc: 0.9329 - val_loss: 0.5826 - val_acc: 0.7825\n",
      "Epoch 7/10\n",
      "145/145 [==============================] - 2s 11ms/step - loss: 0.1888 - acc: 0.9432 - val_loss: 0.6379 - val_acc: 0.7883\n",
      "Epoch 8/10\n",
      "145/145 [==============================] - 2s 11ms/step - loss: 0.1690 - acc: 0.9512 - val_loss: 0.6934 - val_acc: 0.7748\n",
      "Epoch 9/10\n",
      "145/145 [==============================] - 2s 11ms/step - loss: 0.1491 - acc: 0.9575 - val_loss: 0.7629 - val_acc: 0.7612\n",
      "Epoch 10/10\n",
      "145/145 [==============================] - 2s 11ms/step - loss: 0.1298 - acc: 0.9674 - val_loss: 0.7115 - val_acc: 0.7650\n"
     ]
    },
    {
     "data": {
      "text/plain": [
       "<keras.callbacks.History at 0x24dce7380a0>"
      ]
     },
     "execution_count": 34,
     "metadata": {},
     "output_type": "execute_result"
    }
   ],
   "source": [
    "from keras import models\n",
    "from keras import layers\n",
    "from keras.optimizers import Adam,RMSprop\n",
    "from keras.callbacks import EarlyStopping\n",
    "from sklearn.metrics import accuracy_score, f1_score, confusion_matrix\n",
    "\n",
    "model = models.Sequential()\n",
    "model.add(layers.Embedding(index_length,10))\n",
    "model.add(layers.Bidirectional(layers.LSTM(10)))\n",
    "model.add(layers.Dense(15,activation='relu'))\n",
    "model.add(layers.Dense(1,activation='sigmoid'))\n",
    "\n",
    "model.compile(optimizer=RMSprop(),loss='binary_crossentropy',metrics=['acc'])\n",
    "\n",
    "model.fit(x_tr,y_tr,epochs=10,verbose=1,validation_split=0.1)"
   ]
  },
  {
   "cell_type": "code",
   "execution_count": 35,
   "metadata": {
    "execution": {
     "iopub.execute_input": "2023-08-05T05:45:17.885587Z",
     "iopub.status.busy": "2023-08-05T05:45:17.885212Z",
     "iopub.status.idle": "2023-08-05T05:45:19.091745Z",
     "shell.execute_reply": "2023-08-05T05:45:19.090539Z",
     "shell.execute_reply.started": "2023-08-05T05:45:17.885555Z"
    }
   },
   "outputs": [
    {
     "name": "stdout",
     "output_type": "stream",
     "text": [
      "18/18 [==============================] - 1s 3ms/step\n",
      "accuracy: 0.7342657342657343\n",
      "f1-score: 0.7314487632508834\n"
     ]
    },
    {
     "data": {
      "image/png": "[encoded data removed]",
      "text/plain": [
       "<Figure size 432x288 with 2 Axes>"
      ]
     },
     "metadata": {
      "needs_background": "light"
     },
     "output_type": "display_data"
    }
   ],
   "source": [
    "preds = []\n",
    "for p in model.predict(x_ts):\n",
    "    if p<0.5: preds.append(0)\n",
    "    else: preds.append(1)\n",
    "\n",
    "print('accuracy:', accuracy_score(y_ts,preds))\n",
    "print('f1-score:', f1_score(y_ts,preds))\n",
    "sns.heatmap(confusion_matrix(y_ts,preds),annot=True,fmt='1d');\n",
    "\n",
    "results['Sequential Embedded Hexamers -> Bidirectional LSTM'] = [accuracy_score(y_ts,preds), f1_score(y_ts,preds)]"
   ]
  },
  {
   "cell_type": "markdown",
   "metadata": {},
   "source": [
    "#### CNN on Sequential Embedded Hexamers"
   ]
  },
  {
   "cell_type": "code",
   "execution_count": 36,
   "metadata": {
    "execution": {
     "iopub.execute_input": "2023-08-05T05:45:19.094040Z",
     "iopub.status.busy": "2023-08-05T05:45:19.093547Z",
     "iopub.status.idle": "2023-08-05T05:45:25.592670Z",
     "shell.execute_reply": "2023-08-05T05:45:25.591798Z",
     "shell.execute_reply.started": "2023-08-05T05:45:19.093991Z"
    }
   },
   "outputs": [
    {
     "data": {
      "text/plain": [
       "<keras.callbacks.History at 0x24f97f5f430>"
      ]
     },
     "execution_count": 36,
     "metadata": {},
     "output_type": "execute_result"
    }
   ],
   "source": [
    "model = models.Sequential()\n",
    "model.add(layers.Embedding(index_length,10))\n",
    "model.add(layers.Conv1D(16,10,activation='relu'))\n",
    "model.add(layers.MaxPooling1D(5))\n",
    "model.add(layers.GlobalMaxPooling1D())\n",
    "model.add(layers.Dense(1, activation='sigmoid'))\n",
    "\n",
    "model.compile(optimizer='adam',loss='binary_crossentropy',metrics=['acc'])\n",
    "\n",
    "model.fit(x_tr,y_tr,epochs=10,verbose=0,validation_split=0.1)"
   ]
  },
  {
   "cell_type": "code",
   "execution_count": 37,
   "metadata": {
    "execution": {
     "iopub.execute_input": "2023-08-05T05:45:25.594258Z",
     "iopub.status.busy": "2023-08-05T05:45:25.593798Z",
     "iopub.status.idle": "2023-08-05T05:45:25.939753Z",
     "shell.execute_reply": "2023-08-05T05:45:25.938572Z",
     "shell.execute_reply.started": "2023-08-05T05:45:25.594201Z"
    }
   },
   "outputs": [
    {
     "name": "stdout",
     "output_type": "stream",
     "text": [
      "18/18 [==============================] - 0s 1ms/step\n",
      "accuracy: 0.7604895104895105\n",
      "f1-score: 0.7575221238938054\n"
     ]
    },
    {
     "data": {
      "image/png": "[encoded data removed]",
      "text/plain": [
       "<Figure size 432x288 with 2 Axes>"
      ]
     },
     "metadata": {
      "needs_background": "light"
     },
     "output_type": "display_data"
    }
   ],
   "source": [
    "preds = []\n",
    "for p in model.predict(x_ts):\n",
    "    if p<0.5: preds.append(0)\n",
    "    else: preds.append(1)\n",
    "\n",
    "print('accuracy:', accuracy_score(y_ts,preds))\n",
    "print('f1-score:', f1_score(y_ts,preds))\n",
    "sns.heatmap(confusion_matrix(y_ts,preds),annot=True,fmt='1d');\n",
    "\n",
    "results['Sequential Embedded Hexamers -> CNN'] = [accuracy_score(y_ts,preds), f1_score(y_ts,preds)]"
   ]
  },
  {
   "cell_type": "markdown",
   "metadata": {},
   "source": [
    "## Classification on sequential data"
   ]
  },
  {
   "cell_type": "markdown",
   "metadata": {},
   "source": [
    "Lastly, we will train models on the nucleotide sequences themselves.\n",
    "\n",
    "\n",
    "We try traditional machine learning models, namely Logistic Regression and Random Forest on ordinally encoded sequences, and then deep learning models on one-hot encoded sequences."
   ]
  },
  {
   "cell_type": "markdown",
   "metadata": {},
   "source": [
    "### Ordinal-encoded Sequences"
   ]
  },
  {
   "cell_type": "code",
   "execution_count": 38,
   "metadata": {
    "execution": {
     "iopub.execute_input": "2023-08-05T05:45:25.941815Z",
     "iopub.status.busy": "2023-08-05T05:45:25.941326Z",
     "iopub.status.idle": "2023-08-05T05:45:26.296156Z",
     "shell.execute_reply": "2023-08-05T05:45:26.295169Z",
     "shell.execute_reply.started": "2023-08-05T05:45:25.941766Z"
    }
   },
   "outputs": [
    {
     "data": {
      "text/plain": [
       "((5720, 2860), array([0.5 , 0.25, 0.25, 0.5 ]))"
      ]
     },
     "execution_count": 38,
     "metadata": {},
     "output_type": "execute_result"
    }
   ],
   "source": [
    "#ordinal encoding\n",
    "x = np.zeros((5720,2860))\n",
    "for i,s in enumerate(df['seq']):\n",
    "    for j,c in enumerate(s):\n",
    "        if c == 'A': x[i,j] = 0.25\n",
    "        elif c == 'C': x[i,j] = 0.50\n",
    "        elif c == 'G': x[i,j] = 0.75\n",
    "        else: x[i,j] = 1\n",
    "            \n",
    "x.shape,x[0,:4]"
   ]
  },
  {
   "cell_type": "code",
   "execution_count": 39,
   "metadata": {
    "execution": {
     "iopub.execute_input": "2023-08-05T05:45:26.297636Z",
     "iopub.status.busy": "2023-08-05T05:45:26.297310Z",
     "iopub.status.idle": "2023-08-05T05:46:36.501051Z",
     "shell.execute_reply": "2023-08-05T05:46:36.499780Z",
     "shell.execute_reply.started": "2023-08-05T05:45:26.297605Z"
    }
   },
   "outputs": [
    {
     "data": {
      "image/png": "[encoded data removed]",
      "text/plain": [
       "<Figure size 432x288 with 1 Axes>"
      ]
     },
     "metadata": {
      "needs_background": "light"
     },
     "output_type": "display_data"
    },
    {
     "data": {
      "image/png": "[encoded data removed]",
      "text/plain": [
       "<Figure size 432x288 with 1 Axes>"
      ]
     },
     "metadata": {
      "needs_background": "light"
     },
     "output_type": "display_data"
    },
    {
     "data": {
      "image/png": "[encoded data removed]",
      "text/plain": [
       "<Figure size 432x288 with 1 Axes>"
      ]
     },
     "metadata": {
      "needs_background": "light"
     },
     "output_type": "display_data"
    }
   ],
   "source": [
    "from sklearn.decomposition import PCA\n",
    "\n",
    "pca = PCA()\n",
    "x_pca = pca.fit_transform(x)\n",
    "\n",
    "plt.figure();\n",
    "ax = plt.axes(projection='3d');\n",
    "ax.scatter(x_pca[:,0], x_pca[:,1], x_pca[:,2], c=y, cmap='winter');\n",
    "\n",
    "plt.figure();\n",
    "var_index = np.arange(pca.explained_variance_.shape[0])+1\n",
    "sns.barplot(var_index,pca.explained_variance_ratio_,color='gray');\n",
    "\n",
    "plt.figure();\n",
    "sns.lineplot(var_index, pca.explained_variance_ratio_.cumsum());"
   ]
  },
  {
   "cell_type": "code",
   "execution_count": 40,
   "metadata": {
    "execution": {
     "iopub.execute_input": "2023-08-05T05:46:36.502888Z",
     "iopub.status.busy": "2023-08-05T05:46:36.502552Z",
     "iopub.status.idle": "2023-08-05T05:46:36.552438Z",
     "shell.execute_reply": "2023-08-05T05:46:36.551303Z",
     "shell.execute_reply.started": "2023-08-05T05:46:36.502858Z"
    }
   },
   "outputs": [
    {
     "data": {
      "text/plain": [
       "((4576, 2860), (4576,), (1144, 2860), (1144,))"
      ]
     },
     "execution_count": 40,
     "metadata": {},
     "output_type": "execute_result"
    }
   ],
   "source": [
    "from sklearn.preprocessing import LabelEncoder\n",
    "from sklearn.model_selection import train_test_split\n",
    "from sklearn.linear_model import LogisticRegression\n",
    "from sklearn.ensemble import RandomForestClassifier\n",
    "from sklearn.metrics import accuracy_score, f1_score, confusion_matrix\n",
    "\n",
    "enc = LabelEncoder()\n",
    "y= enc.fit_transform(df['id'].values)\n",
    "\n",
    "x_tr,x_ts, y_tr, y_ts = train_test_split(x,y,test_size=0.2,\n",
    "                                         random_state=42)\n",
    "x_tr.shape, y_tr.shape, x_ts.shape, y_ts.shape"
   ]
  },
  {
   "cell_type": "markdown",
   "metadata": {},
   "source": [
    "#### Logistic Regression on sequential data"
   ]
  },
  {
   "cell_type": "code",
   "execution_count": 41,
   "metadata": {
    "execution": {
     "iopub.execute_input": "2023-08-05T05:46:36.554637Z",
     "iopub.status.busy": "2023-08-05T05:46:36.554114Z",
     "iopub.status.idle": "2023-08-05T05:46:38.289857Z",
     "shell.execute_reply": "2023-08-05T05:46:38.288993Z",
     "shell.execute_reply.started": "2023-08-05T05:46:36.554590Z"
    }
   },
   "outputs": [
    {
     "name": "stdout",
     "output_type": "stream",
     "text": [
      "accuracy: 0.6398601398601399\n",
      "f1-score: 0.6379613356766255\n"
     ]
    },
    {
     "data": {
      "image/png": "[encoded data removed]",
      "text/plain": [
       "<Figure size 432x288 with 2 Axes>"
      ]
     },
     "metadata": {
      "needs_background": "light"
     },
     "output_type": "display_data"
    }
   ],
   "source": [
    "logreg = LogisticRegression()\n",
    "logreg.fit(x_tr,y_tr)\n",
    "pred = logreg.predict(x_ts)\n",
    "print('accuracy:', accuracy_score(y_ts,pred))\n",
    "print('f1-score:', f1_score(y_ts,pred))\n",
    "sns.heatmap(confusion_matrix(y_ts,pred),annot=True,fmt='1d');\n",
    "\n",
    "results['Sequential Ordinal_Encoded -> Logistic Regression'] = [accuracy_score(y_ts,pred), f1_score(y_ts,pred)]"
   ]
  },
  {
   "cell_type": "markdown",
   "metadata": {},
   "source": [
    "#### Random Forest on sequential data"
   ]
  },
  {
   "cell_type": "code",
   "execution_count": 42,
   "metadata": {
    "execution": {
     "iopub.execute_input": "2023-08-05T05:46:38.291440Z",
     "iopub.status.busy": "2023-08-05T05:46:38.291102Z",
     "iopub.status.idle": "2023-08-05T05:47:37.019059Z",
     "shell.execute_reply": "2023-08-05T05:47:37.017822Z",
     "shell.execute_reply.started": "2023-08-05T05:46:38.291409Z"
    }
   },
   "outputs": [
    {
     "name": "stdout",
     "output_type": "stream",
     "text": [
      "accuracy: 0.8155594405594405\n",
      "f1-score: 0.8166811468288445\n"
     ]
    },
    {
     "data": {
      "image/png": "[encoded data removed]",
      "text/plain": [
       "<Figure size 432x288 with 2 Axes>"
      ]
     },
     "metadata": {
      "needs_background": "light"
     },
     "output_type": "display_data"
    }
   ],
   "source": [
    "rf = RandomForestClassifier(n_estimators=2000)\n",
    "rf.fit(x_tr,y_tr)\n",
    "pred = rf.predict(x_ts)\n",
    "print('accuracy:', accuracy_score(y_ts,pred))\n",
    "print('f1-score:', f1_score(y_ts,pred))\n",
    "sns.heatmap(confusion_matrix(y_ts,pred),annot=True,fmt='1d');\n",
    "\n",
    "results['Sequential Ordinal_Encoded -> Random Forest'] = [accuracy_score(y_ts,pred), f1_score(y_ts,pred)]"
   ]
  },
  {
   "cell_type": "markdown",
   "metadata": {},
   "source": [
    "### OneHot-encoded Sequences"
   ]
  },
  {
   "cell_type": "code",
   "execution_count": 43,
   "metadata": {
    "execution": {
     "iopub.execute_input": "2023-08-05T05:47:37.020948Z",
     "iopub.status.busy": "2023-08-05T05:47:37.020565Z",
     "iopub.status.idle": "2023-08-05T05:47:37.833607Z",
     "shell.execute_reply": "2023-08-05T05:47:37.832381Z",
     "shell.execute_reply.started": "2023-08-05T05:47:37.020912Z"
    }
   },
   "outputs": [
    {
     "data": {
      "text/plain": [
       "((4576, 4, 2860), (4576,), (1144, 4, 2860), (1144,))"
      ]
     },
     "execution_count": 43,
     "metadata": {},
     "output_type": "execute_result"
    }
   ],
   "source": [
    "#onehot encoding\n",
    "x_onehot = np.zeros((5720,4,2860),dtype='int')\n",
    "for i,s in enumerate(df['seq']):\n",
    "    for j,c in enumerate(s):\n",
    "        if c == 'A': x_onehot[i,0,j] = 1\n",
    "        elif c == 'C': x_onehot[i,1,j] = 1\n",
    "        elif c == 'G': x_onehot[i,2,j] = 1\n",
    "        else: x_onehot[i,3,j] = 1\n",
    "            \n",
    "            \n",
    "from sklearn.preprocessing import LabelEncoder\n",
    "from sklearn.model_selection import train_test_split\n",
    "from sklearn.metrics import accuracy_score, f1_score, confusion_matrix\n",
    "\n",
    "enc = LabelEncoder()\n",
    "y= enc.fit_transform(df['id'].values)\n",
    "\n",
    "x_tr,x_ts, y_tr, y_ts = train_test_split(x_onehot,y,test_size=0.2,\n",
    "                                         random_state=42)\n",
    "x_tr.shape, y_tr.shape, x_ts.shape, y_ts.shape"
   ]
  },
  {
   "cell_type": "markdown",
   "metadata": {},
   "source": [
    "#### Convolutional Neural Network on sequential data"
   ]
  },
  {
   "cell_type": "code",
   "execution_count": 44,
   "metadata": {
    "execution": {
     "iopub.execute_input": "2023-08-05T05:47:37.835626Z",
     "iopub.status.busy": "2023-08-05T05:47:37.835263Z",
     "iopub.status.idle": "2023-08-05T05:47:37.840679Z",
     "shell.execute_reply": "2023-08-05T05:47:37.839632Z",
     "shell.execute_reply.started": "2023-08-05T05:47:37.835589Z"
    }
   },
   "outputs": [],
   "source": [
    "from keras import models\n",
    "from keras import layers\n",
    "from keras.optimizers import Adam\n",
    "from keras.callbacks import EarlyStopping"
   ]
  },
  {
   "cell_type": "code",
   "execution_count": 45,
   "metadata": {
    "execution": {
     "iopub.execute_input": "2023-08-05T05:47:37.842949Z",
     "iopub.status.busy": "2023-08-05T05:47:37.842337Z",
     "iopub.status.idle": "2023-08-05T05:55:59.952676Z",
     "shell.execute_reply": "2023-08-05T05:55:59.951397Z",
     "shell.execute_reply.started": "2023-08-05T05:47:37.842899Z"
    }
   },
   "outputs": [
    {
     "name": "stdout",
     "output_type": "stream",
     "text": [
      "Epoch 1/15\n",
      "129/129 - 1s - loss: 0.4731 - acc: 0.7715 - val_loss: 0.4184 - val_acc: 0.8144 - 1s/epoch - 10ms/step\n",
      "Epoch 2/15\n",
      "129/129 - 1s - loss: 0.3592 - acc: 0.8405 - val_loss: 0.4375 - val_acc: 0.7991 - 670ms/epoch - 5ms/step\n",
      "Epoch 3/15\n",
      "129/129 - 1s - loss: 0.2871 - acc: 0.8827 - val_loss: 0.4325 - val_acc: 0.8231 - 673ms/epoch - 5ms/step\n",
      "Epoch 4/15\n",
      "129/129 - 1s - loss: 0.1732 - acc: 0.9398 - val_loss: 0.4806 - val_acc: 0.8231 - 671ms/epoch - 5ms/step\n",
      "Epoch 5/15\n",
      "129/129 - 1s - loss: 0.0727 - acc: 0.9798 - val_loss: 0.5652 - val_acc: 0.8253 - 671ms/epoch - 5ms/step\n",
      "Epoch 5: early stopping\n"
     ]
    },
    {
     "data": {
      "text/plain": [
       "<keras.callbacks.History at 0x2503371a7c0>"
      ]
     },
     "execution_count": 45,
     "metadata": {},
     "output_type": "execute_result"
    }
   ],
   "source": [
    "model = models.Sequential()\n",
    "model.add(layers.Conv1D(256,12,activation='relu',\n",
    "                        input_shape=(x_tr.shape[1],x_tr.shape[2]),\n",
    "                        padding='same'))\n",
    "model.add(layers.Dropout(0.1))\n",
    "#model.add(layers.GlobalMaxPooling1D())\n",
    "model.add(layers.MaxPool1D(10,padding='same'))\n",
    "model.add(layers.Flatten())\n",
    "model.add(layers.Dense(64,activation='relu'))\n",
    "model.add(layers.Dense(1,activation='sigmoid'))\n",
    "model.compile(optimizer='adam',loss='binary_crossentropy', metrics=['acc'])\n",
    "\n",
    "\n",
    "stop = EarlyStopping(patience=4,verbose=1)\n",
    "model.fit(x_tr,y_tr,epochs=15, validation_split=0.1,verbose=2,callbacks=[stop])"
   ]
  },
  {
   "cell_type": "code",
   "execution_count": 46,
   "metadata": {
    "execution": {
     "iopub.execute_input": "2023-08-05T05:55:59.955098Z",
     "iopub.status.busy": "2023-08-05T05:55:59.954732Z",
     "iopub.status.idle": "2023-08-05T05:56:01.246803Z",
     "shell.execute_reply": "2023-08-05T05:56:01.245573Z",
     "shell.execute_reply.started": "2023-08-05T05:55:59.955060Z"
    }
   },
   "outputs": [
    {
     "name": "stdout",
     "output_type": "stream",
     "text": [
      "36/36 [==============================] - 0s 2ms/step\n",
      "accuracy: 0.8382867132867133\n",
      "f1-score: 0.8288621646623497\n"
     ]
    },
    {
     "data": {
      "image/png": "[encoded data removed]",
      "text/plain": [
       "<Figure size 432x288 with 2 Axes>"
      ]
     },
     "metadata": {
      "needs_background": "light"
     },
     "output_type": "display_data"
    }
   ],
   "source": [
    "preds = []\n",
    "for p in model.predict(x_ts):\n",
    "    if p<0.5: preds.append(0)\n",
    "    else: preds.append(1)\n",
    "\n",
    "print('accuracy:', accuracy_score(y_ts,preds))\n",
    "print('f1-score:', f1_score(y_ts,preds))\n",
    "sns.heatmap(confusion_matrix(y_ts,preds),annot=True,fmt='1d');\n",
    "\n",
    "results['One-hot Sequential  -> CNN'] = [accuracy_score(y_ts,preds), f1_score(y_ts,preds)]"
   ]
  },
  {
   "cell_type": "markdown",
   "metadata": {},
   "source": [
    "#### Recurent Neural Network (Bidirectional LSTM) on sequential data"
   ]
  },
  {
   "cell_type": "code",
   "execution_count": 47,
   "metadata": {
    "execution": {
     "iopub.execute_input": "2023-08-05T05:56:01.249588Z",
     "iopub.status.busy": "2023-08-05T05:56:01.249244Z"
    }
   },
   "outputs": [
    {
     "name": "stdout",
     "output_type": "stream",
     "text": [
      "WARNING:tensorflow:Layer lstm_2 will not use cuDNN kernels since it doesn't meet the criteria. It will use a generic GPU kernel as fallback when running on GPU.\n",
      "WARNING:tensorflow:Layer lstm_2 will not use cuDNN kernels since it doesn't meet the criteria. It will use a generic GPU kernel as fallback when running on GPU.\n",
      "WARNING:tensorflow:Layer lstm_2 will not use cuDNN kernels since it doesn't meet the criteria. It will use a generic GPU kernel as fallback when running on GPU.\n",
      "Epoch 1/5\n",
      "129/129 [==============================] - 3408s 26s/step - loss: 0.5611 - acc: 0.7258 - val_loss: 0.5529 - val_acc: 0.7576\n",
      "Epoch 2/5\n",
      "129/129 [==============================] - 3381s 26s/step - loss: 0.5223 - acc: 0.7586 - val_loss: 0.5131 - val_acc: 0.7620\n",
      "Epoch 3/5\n",
      "129/129 [==============================] - 3413s 26s/step - loss: 0.5222 - acc: 0.7591 - val_loss: 0.5003 - val_acc: 0.7817\n",
      "Epoch 4/5\n",
      "129/129 [==============================] - 3346s 26s/step - loss: 0.5205 - acc: 0.7603 - val_loss: 0.5164 - val_acc: 0.7707\n",
      "Epoch 5/5\n",
      "129/129 [==============================] - 3374s 26s/step - loss: 0.5177 - acc: 0.7615 - val_loss: 0.5293 - val_acc: 0.7751\n"
     ]
    },
    {
     "data": {
      "text/plain": [
       "<keras.callbacks.History at 0x250594af8b0>"
      ]
     },
     "execution_count": 47,
     "metadata": {},
     "output_type": "execute_result"
    }
   ],
   "source": [
    "from keras.optimizers import RMSprop\n",
    "rnn = models.Sequential()\n",
    "rnn.add(layers.Bidirectional(layers.LSTM(50,return_sequences=True),\n",
    "        input_shape=(x_tr.shape[2],x_tr.shape[1])))\n",
    "rnn.add(layers.Bidirectional(layers.LSTM(50,return_sequences=True,recurrent_dropout=0.1)))\n",
    "rnn.add(layers.Bidirectional(layers.LSTM(50)))\n",
    "rnn.add(layers.Dense(64,activation='relu'))\n",
    "rnn.add(layers.Dense(1,activation='sigmoid'))\n",
    "\n",
    "rnn.compile(optimizer=RMSprop(),loss='binary_crossentropy',metrics=['acc'])\n",
    "rnn.fit(np.swapaxes(x_tr,2,1),y_tr,epochs=5,validation_split=0.1,verbose=1)"
   ]
  },
  {
   "cell_type": "code",
   "execution_count": 48,
   "metadata": {},
   "outputs": [
    {
     "name": "stdout",
     "output_type": "stream",
     "text": [
      "36/36 [==============================] - 151s 4s/step\n",
      "accuracy: 0.7718531468531469\n",
      "f1-score: 0.7558465855940131\n"
     ]
    },
    {
     "data": {
      "image/png": "[encoded data removed]",
      "text/plain": [
       "<Figure size 432x288 with 2 Axes>"
      ]
     },
     "metadata": {
      "needs_background": "light"
     },
     "output_type": "display_data"
    }
   ],
   "source": [
    "preds = []\n",
    "for p in rnn.predict(np.swapaxes(x_ts,2,1)):\n",
    "    if p<0.5: preds.append(0)\n",
    "    else: preds.append(1)\n",
    "\n",
    "print('accuracy:', accuracy_score(y_ts,preds))\n",
    "print('f1-score:', f1_score(y_ts,preds))\n",
    "sns.heatmap(confusion_matrix(y_ts,preds),annot=True,fmt='1d');\n",
    "\n",
    "results['One-hot Sequential  -> Bidirectional LSTM'] = [accuracy_score(y_ts,preds), f1_score(y_ts,preds)]"
   ]
  },
  {
   "cell_type": "markdown",
   "metadata": {},
   "source": [
    "#### CNN/LSTM hybrid on sequential data"
   ]
  },
  {
   "cell_type": "code",
   "execution_count": 49,
   "metadata": {},
   "outputs": [
    {
     "data": {
      "text/plain": [
       "<keras.callbacks.History at 0x24df0324490>"
      ]
     },
     "execution_count": 49,
     "metadata": {},
     "output_type": "execute_result"
    }
   ],
   "source": [
    "hyb = models.Sequential()\n",
    "hyb.add(layers.Conv1D(256,12,activation='relu',padding='same',\n",
    "                      input_shape=(x_tr.shape[1],x_tr.shape[2])))\n",
    "hyb.add(layers.MaxPool1D(8,padding='same'))\n",
    "#hyb.add(layers.Flatten())\n",
    "hyb.add(layers.Bidirectional(layers.LSTM(40)))\n",
    "hyb.add(layers.Dense(1,activation='sigmoid'))\n",
    "\n",
    "hyb.compile(optimizer=RMSprop(),loss='binary_crossentropy',metrics=['acc'])\n",
    "hyb.fit(x_tr,y_tr,epochs=15, validation_split=0.1,verbose=0)"
   ]
  },
  {
   "cell_type": "code",
   "execution_count": 50,
   "metadata": {},
   "outputs": [
    {
     "name": "stdout",
     "output_type": "stream",
     "text": [
      "36/36 [==============================] - 1s 3ms/step\n",
      "accuracy: 0.840034965034965\n",
      "f1-score: 0.8307123034227567\n"
     ]
    },
    {
     "data": {
      "image/png": "[encoded data removed]",
      "text/plain": [
       "<Figure size 432x288 with 2 Axes>"
      ]
     },
     "metadata": {
      "needs_background": "light"
     },
     "output_type": "display_data"
    }
   ],
   "source": [
    "preds = []\n",
    "for p in hyb.predict(x_ts):\n",
    "    if p<0.5: preds.append(0)\n",
    "    else: preds.append(1)\n",
    "\n",
    "print('accuracy:', accuracy_score(y_ts,preds))\n",
    "print('f1-score:', f1_score(y_ts,preds))\n",
    "sns.heatmap(confusion_matrix(y_ts,preds),annot=True,fmt='1d');\n",
    "\n",
    "results['One-hot Sequential  -> CNN\\Bi-LSTM'] = [accuracy_score(y_ts,preds), f1_score(y_ts,preds)]"
   ]
  },
  {
   "cell_type": "markdown",
   "metadata": {},
   "source": [
    "# Comparative Results"
   ]
  },
  {
   "cell_type": "code",
   "execution_count": 51,
   "metadata": {},
   "outputs": [
    {
     "data": {
      "text/html": [
       "<div>\n",
       "<style scoped>\n",
       "    .dataframe tbody tr th:only-of-type {\n",
       "        vertical-align: middle;\n",
       "    }\n",
       "\n",
       "    .dataframe tbody tr th {\n",
       "        vertical-align: top;\n",
       "    }\n",
       "\n",
       "    .dataframe thead th {\n",
       "        text-align: right;\n",
       "    }\n",
       "</style>\n",
       "<table border=\"1\" class=\"dataframe\">\n",
       "  <thead>\n",
       "    <tr style=\"text-align: right;\">\n",
       "      <th></th>\n",
       "      <th>accuracy</th>\n",
       "      <th>f1-score</th>\n",
       "    </tr>\n",
       "  </thead>\n",
       "  <tbody>\n",
       "    <tr>\n",
       "      <th>Hexamers -&gt; Logistic Regression</th>\n",
       "      <td>0.730769</td>\n",
       "      <td>0.716912</td>\n",
       "    </tr>\n",
       "    <tr>\n",
       "      <th>PCA-decomposed Hexamers -&gt; Logistic Regression</th>\n",
       "      <td>0.797203</td>\n",
       "      <td>0.792857</td>\n",
       "    </tr>\n",
       "    <tr>\n",
       "      <th>Hexamers -&gt; Random Forest</th>\n",
       "      <td>0.802448</td>\n",
       "      <td>0.785579</td>\n",
       "    </tr>\n",
       "    <tr>\n",
       "      <th>Sequential Embedded Hexamers -&gt; Bidirectional LSTM</th>\n",
       "      <td>0.734266</td>\n",
       "      <td>0.731449</td>\n",
       "    </tr>\n",
       "    <tr>\n",
       "      <th>Sequential Embedded Hexamers -&gt; CNN</th>\n",
       "      <td>0.760490</td>\n",
       "      <td>0.757522</td>\n",
       "    </tr>\n",
       "    <tr>\n",
       "      <th>Sequential Ordinal_Encoded -&gt; Logistic Regression</th>\n",
       "      <td>0.639860</td>\n",
       "      <td>0.637961</td>\n",
       "    </tr>\n",
       "    <tr>\n",
       "      <th>Sequential Ordinal_Encoded -&gt; Random Forest</th>\n",
       "      <td>0.815559</td>\n",
       "      <td>0.816681</td>\n",
       "    </tr>\n",
       "    <tr>\n",
       "      <th>One-hot Sequential  -&gt; CNN</th>\n",
       "      <td>0.838287</td>\n",
       "      <td>0.828862</td>\n",
       "    </tr>\n",
       "    <tr>\n",
       "      <th>One-hot Sequential  -&gt; Bidirectional LSTM</th>\n",
       "      <td>0.771853</td>\n",
       "      <td>0.755847</td>\n",
       "    </tr>\n",
       "    <tr>\n",
       "      <th>One-hot Sequential  -&gt; CNN\\Bi-LSTM</th>\n",
       "      <td>0.840035</td>\n",
       "      <td>0.830712</td>\n",
       "    </tr>\n",
       "  </tbody>\n",
       "</table>\n",
       "</div>"
      ],
      "text/plain": [
       "                                                    accuracy  f1-score\n",
       "Hexamers -> Logistic Regression                     0.730769  0.716912\n",
       "PCA-decomposed Hexamers -> Logistic Regression      0.797203  0.792857\n",
       "Hexamers -> Random Forest                           0.802448  0.785579\n",
       "Sequential Embedded Hexamers -> Bidirectional LSTM  0.734266  0.731449\n",
       "Sequential Embedded Hexamers -> CNN                 0.760490  0.757522\n",
       "Sequential Ordinal_Encoded -> Logistic Regression   0.639860  0.637961\n",
       "Sequential Ordinal_Encoded -> Random Forest         0.815559  0.816681\n",
       "One-hot Sequential  -> CNN                          0.838287  0.828862\n",
       "One-hot Sequential  -> Bidirectional LSTM           0.771853  0.755847\n",
       "One-hot Sequential  -> CNN\\Bi-LSTM                  0.840035  0.830712"
      ]
     },
     "execution_count": 51,
     "metadata": {},
     "output_type": "execute_result"
    }
   ],
   "source": [
    "#display performance of models in a dataframe \n",
    "pd.DataFrame(data=results.values(),index=results.keys(),columns=['accuracy','f1-score'])"
   ]
  },
  {
   "cell_type": "code",
   "execution_count": 52,
   "metadata": {},
   "outputs": [
    {
     "ename": "TypeError",
     "evalue": "tight_layout() takes 0 positional arguments but 1 was given",
     "output_type": "error",
     "traceback": [
      "\u001b[1;31m---------------------------------------------------------------------------\u001b[0m",
      "\u001b[1;31mTypeError\u001b[0m                                 Traceback (most recent call last)",
      "\u001b[1;32m~\\AppData\\Local\\Temp/ipykernel_7048/54369443.py\u001b[0m in \u001b[0;36m<module>\u001b[1;34m\u001b[0m\n\u001b[0;32m     18\u001b[0m             hue='metric',palette=['firebrick','lightcoral']);\n\u001b[0;32m     19\u001b[0m \u001b[0mplt\u001b[0m\u001b[1;33m.\u001b[0m\u001b[0mlegend\u001b[0m\u001b[1;33m(\u001b[0m\u001b[0mloc\u001b[0m\u001b[1;33m=\u001b[0m\u001b[1;33m(\u001b[0m\u001b[1;36m1.01\u001b[0m\u001b[1;33m,\u001b[0m\u001b[1;36m0.8\u001b[0m\u001b[1;33m)\u001b[0m\u001b[1;33m)\u001b[0m\u001b[1;33m;\u001b[0m\u001b[1;33m\u001b[0m\u001b[1;33m\u001b[0m\u001b[0m\n\u001b[1;32m---> 20\u001b[1;33m \u001b[0mplt\u001b[0m\u001b[1;33m.\u001b[0m\u001b[0mtight_layout\u001b[0m\u001b[1;33m(\u001b[0m\u001b[1;32mTrue\u001b[0m\u001b[1;33m)\u001b[0m\u001b[1;33m;\u001b[0m\u001b[1;33m\u001b[0m\u001b[1;33m\u001b[0m\u001b[0m\n\u001b[0m\u001b[0;32m     21\u001b[0m \u001b[0mplt\u001b[0m\u001b[1;33m.\u001b[0m\u001b[0mtitle\u001b[0m\u001b[1;33m(\u001b[0m\u001b[1;34m'Model Performance'\u001b[0m\u001b[1;33m)\u001b[0m\u001b[1;33m;\u001b[0m\u001b[1;33m\u001b[0m\u001b[1;33m\u001b[0m\u001b[0m\n",
      "\u001b[1;31mTypeError\u001b[0m: tight_layout() takes 0 positional arguments but 1 was given"
     ]
    },
    {
     "data": {
      "image/png": "[encoded data removed]",
      "text/plain": [
       "<Figure size 720x360 with 1 Axes>"
      ]
     },
     "metadata": {
      "needs_background": "light"
     },
     "output_type": "display_data"
    }
   ],
   "source": [
    "#comparison visualization\n",
    "\n",
    "#prepare the results-data for barplot\n",
    "models = list(results.keys())\n",
    "accuracies = [results[m][0] for m in models]\n",
    "f1_scores = [results[m][1] for m in models]\n",
    "ml_models = pd.Series(np.hstack((models,models)))\n",
    "value = pd.Series(np.hstack((accuracies,f1_scores)))\n",
    "metric = pd.Series(np.repeat(['accuracy','f1_score'],len(models)))\n",
    "results_df = pd.DataFrame([])\n",
    "results_df['representation-model'] = ml_models\n",
    "results_df['value'] = value\n",
    "results_df['metric'] = metric\n",
    "\n",
    "#generate barplot\n",
    "plt.figure(figsize=(10,5));\n",
    "sns.barplot(y='representation-model', x='value', data=results_df, \n",
    "            hue='metric',palette=['firebrick','lightcoral']);\n",
    "plt.legend(loc=(1.01,0.8));\n",
    "plt.tight_layout(True);\n",
    "plt.title('Model Performance');"
   ]
  },
  {
   "cell_type": "markdown",
   "metadata": {},
   "source": [
    "#### Note\n",
    "\n",
    "The particular dataset consisted of very few samples of short sequences. As the number of samples and the length of the sequences increases, classifying based on the sequences, as opposed to k-mers, becomes a better option. Also, with big data, deep learning increasingly supersedes conventional machine learning models."
   ]
  }
 ],
 "metadata": {
  "kernelspec": {
   "display_name": "Python 3 (ipykernel)",
   "language": "python",
   "name": "python3"
  },
  "language_info": {
   "codemirror_mode": {
    "name": "ipython",
    "version": 3
   },
   "file_extension": ".py",
   "mimetype": "text/x-python",
   "name": "python",
   "nbconvert_exporter": "python",
   "pygments_lexer": "ipython3",
   "version": "3.9.7"
  }
 },
 "nbformat": 4,
 "nbformat_minor": 4
}
